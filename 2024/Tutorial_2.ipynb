{
  "nbformat": 4,
  "nbformat_minor": 0,
  "metadata": {
    "colab": {
      "provenance": [],
      "authorship_tag": "ABX9TyNoI/M2LOGWlS/Tzo9QcE4l",
      "include_colab_link": true
    },
    "kernelspec": {
      "name": "python3",
      "display_name": "Python 3"
    },
    "language_info": {
      "name": "python"
    }
  },
  "cells": [
    {
      "cell_type": "markdown",
      "metadata": {
        "id": "view-in-github",
        "colab_type": "text"
      },
      "source": [
        "<a href=\"https://colab.research.google.com/github/peterbmob/niteroi/blob/main/2024/Tutorial_2.ipynb\" target=\"_parent\"><img src=\"https://colab.research.google.com/assets/colab-badge.svg\" alt=\"Open In Colab\"/></a>"
      ]
    },
    {
      "cell_type": "markdown",
      "source": [
        "# Tutorial 2\n",
        "\n",
        "In this example, we will perform a geometry optimisation and molecular dynamics of graphene using DFTB and the xTB parameterisation.\n",
        "\n",
        "To perform a geometry optimization, we need to modify the Driver section of the dftb input\n",
        "\n",
        "```\n",
        "Driver = ConjugateGradient{ #THE \"Driver\" BLOCK CONTROLS GEOMETRY OPTIMIZATION\n",
        "   MaxForceComponent = 0.0001\n",
        "   MaxSteps = 100\n",
        "   LatticeOpt = Yes\n",
        "   Isotropic = Yes\n",
        "   }\n",
        "```\n"
      ],
      "metadata": {
        "id": "8PUfvRu4CyO7"
      }
    },
    {
      "cell_type": "code",
      "execution_count": 1,
      "metadata": {
        "colab": {
          "base_uri": "https://localhost:8080/"
        },
        "id": "ZAf-S-3sCxks",
        "outputId": "bba92ade-1408-4d66-d268-f606354dff65"
      },
      "outputs": [
        {
          "output_type": "stream",
          "name": "stdout",
          "text": [
            "⏬ Downloading https://github.com/conda-forge/miniforge/releases/download/23.11.0-0/Mambaforge-23.11.0-0-Linux-x86_64.sh...\n",
            "📦 Installing...\n",
            "📌 Adjusting configuration...\n",
            "🩹 Patching environment...\n",
            "⏲ Done in 0:00:13\n",
            "🔁 Restarting kernel...\n"
          ]
        }
      ],
      "source": [
        "#@title Create environment and install required software\n",
        "# Conda is uninstalled every time you rehash yuor environment...\n",
        "#!conda --version\n",
        "#If !conda --version returns no results, install conda with :\n",
        "!pip install -q condacolab\n",
        "import condacolab\n",
        "condacolab.install()"
      ]
    },
    {
      "cell_type": "code",
      "source": [
        "%%capture\n",
        "!conda install -c conda-forge mamba dftbplus\n",
        "!conda install -c conda-forge dftbplus-tools\n",
        "!conda install -c conda-forge ase\n",
        "!conda install -c conda-forge py3dmol"
      ],
      "metadata": {
        "id": "6ppTZ-wQE7av"
      },
      "execution_count": 2,
      "outputs": []
    },
    {
      "cell_type": "code",
      "source": [
        "import ase.build\n",
        "\n",
        "atoms = ase.build.graphene(formula='C2', a=2.46, thickness=0.0, size=(3, 3, 1), vacuum=10)\n",
        "write(\"in.gen\",atoms)"
      ],
      "metadata": {
        "id": "KcRPRi-ZRp7b"
      },
      "execution_count": 35,
      "outputs": []
    },
    {
      "cell_type": "code",
      "source": [
        "#THE MAIN INPUT FILE FOR DFTB+ CODE IS dftb_in.hsd.\n",
        "#THE CODE BELOW SHOW HOW TO WRITE SUCH A FILE.\n",
        "dftb_in='''\n",
        "Geometry = GenFormat {\n",
        "    <<< \"in.gen\" #The file containing the geometry of the system\n",
        "}\n",
        "\n",
        "Driver = GeometryOptimisation{ #THE \"Driver\" BLOCK CONTROLS GEOMETRY OPTIMIZATION\n",
        "   Optimizer = Rational {}\n",
        "   MovedAtoms = 1:-1\n",
        "   MaxSteps = 100\n",
        "   LatticeOpt = Yes\n",
        "   Isotropic = Yes\n",
        "   Convergence {GradElem = 1E-4}\n",
        "   }\n",
        "\n",
        "Hamiltonian = xTB{ #THE \"Hamiltonian\" BLOCK GIVE SETTING FOR THE ELECTRONICS\n",
        "   Method = \"GFN1-xTB\"\n",
        "   KPointsAndWeights = SupercellFolding {\n",
        "      7 0 0\n",
        "      0 7 0\n",
        "      0 0 1\n",
        "      0.0 0.0 0.0\n",
        "   }\n",
        "   SCC = Yes\n",
        "   SCCTolerance = 1e-05 # SelfConsistentField convergence criterium.\n",
        "   Mixer = Broyden {\n",
        "       MixingParameter = 0.02\n",
        "   }\n",
        "   Filling = Fermi {\n",
        "       Temperature [Kelvin] = 300\n",
        "   }\n",
        "   }\n",
        "Options {\n",
        "   WriteResultsTag = Yes\n",
        "   WriteDetailedXml = Yes\n",
        "}\n",
        "\n",
        "ParserOptions {\n",
        "   IgnoreUnprocessedNodes = Yes\n",
        "}\n",
        "'''\n",
        "f=open('dftb_in.hsd',\"w\")\n",
        "print(dftb_in,file=f)\n",
        "f.close()"
      ],
      "metadata": {
        "id": "_fI_ccDuE_gd"
      },
      "execution_count": 51,
      "outputs": []
    },
    {
      "cell_type": "code",
      "source": [
        "!dftb+ > std.out"
      ],
      "metadata": {
        "id": "fYiMylfeGHGT"
      },
      "execution_count": 52,
      "outputs": []
    },
    {
      "cell_type": "code",
      "source": [
        "from ase.visualize import view\n",
        "\n",
        "atoms = read('geo_end.gen')\n",
        "atoms=atoms\n",
        "view(atoms, viewer='x3d')"
      ],
      "metadata": {
        "colab": {
          "base_uri": "https://localhost:8080/",
          "height": 317
        },
        "id": "3lZEbBqxIIeo",
        "outputId": "93a9d8d4-f875-4bd2-c6e0-c2cddec1428f"
      },
      "execution_count": 53,
      "outputs": [
        {
          "output_type": "execute_result",
          "data": {
            "text/plain": [
              "<IPython.core.display.HTML object>"
            ],
            "text/html": [
              "<html>\n",
              "    <head>\n",
              "        <title>ASE atomic visualization</title>\n",
              "        <link rel=\"stylesheet\" type=\"text/css\"             href=\"https://www.x3dom.org/release/x3dom.css\"></link>\n",
              "        <script type=\"text/javascript\"             src=\"https://www.x3dom.org/release/x3dom.js\"></script>\n",
              "    </head>\n",
              "    <body>\n",
              "        <X3D width=\"400px\"; height=\"300px\";>\n",
              "\n",
              "<!--Inserting Generated X3D Scene-->\n",
              "<scene>\n",
              "  <viewpoint position=\"0 0 39.99466966\">\n",
              "    <group/>\n",
              "  </viewpoint>\n",
              "  <transform translation=\"-3.6862785045 -3.191301392 -9.998667415\">\n",
              "    <group>\n",
              "      <group>\n",
              "        <transform translation=\"0 0 0\">\n",
              "          <shape>\n",
              "            <appearance>\n",
              "              <material diffuseColor=\"0 0 0\"/>\n",
              "            </appearance>\n",
              "            <lineset vertexCount=\"5\">\n",
              "              <coordinate point=\"0 0 0 7.372557009 -0.004199786695 0.0 3.6825592400000002 6.378402997305001 0.0 -3.689997769 6.382602784 0.0 0 0 0\"/>\n",
              "            </lineset>\n",
              "          </shape>\n",
              "        </transform>\n",
              "        <transform translation=\"0.0 0.0 19.99733483\">\n",
              "          <shape>\n",
              "            <appearance>\n",
              "              <material diffuseColor=\"0 0 0\"/>\n",
              "            </appearance>\n",
              "            <lineset vertexCount=\"5\">\n",
              "              <coordinate point=\"0 0 0 7.372557009 -0.004199786695 0.0 3.6825592400000002 6.378402997305001 0.0 -3.689997769 6.382602784 0.0 0 0 0\"/>\n",
              "            </lineset>\n",
              "          </shape>\n",
              "        </transform>\n",
              "        <transform translation=\"0 0 0\">\n",
              "          <shape>\n",
              "            <appearance>\n",
              "              <material diffuseColor=\"0 0 0\"/>\n",
              "            </appearance>\n",
              "            <lineset vertexCount=\"5\">\n",
              "              <coordinate point=\"0 0 0 7.372557009 -0.004199786695 0.0 7.372557009 -0.004199786695 19.99733483 0.0 0.0 19.99733483 0 0 0\"/>\n",
              "            </lineset>\n",
              "          </shape>\n",
              "        </transform>\n",
              "        <transform translation=\"-3.689997769 6.382602784 0.0\">\n",
              "          <shape>\n",
              "            <appearance>\n",
              "              <material diffuseColor=\"0 0 0\"/>\n",
              "            </appearance>\n",
              "            <lineset vertexCount=\"5\">\n",
              "              <coordinate point=\"0 0 0 7.372557009 -0.004199786695 0.0 7.372557009 -0.004199786695 19.99733483 0.0 0.0 19.99733483 0 0 0\"/>\n",
              "            </lineset>\n",
              "          </shape>\n",
              "        </transform>\n",
              "      </group>\n",
              "      <group>\n",
              "        <transform translation=\"0.003171566388 0.00532653068 10.0\">\n",
              "          <shape>\n",
              "            <appearance>\n",
              "              <material diffuseColor=\"0.565 0.565 0.565\"/>\n",
              "            </appearance>\n",
              "            <sphere radius=\"0.76\"/>\n",
              "          </shape>\n",
              "        </transform>\n",
              "        <transform translation=\"1.231786245 0.7133954215 10.0\">\n",
              "          <shape>\n",
              "            <appearance>\n",
              "              <material diffuseColor=\"0.565 0.565 0.565\"/>\n",
              "            </appearance>\n",
              "            <sphere radius=\"0.76\"/>\n",
              "          </shape>\n",
              "        </transform>\n",
              "        <transform translation=\"-1.226828371 2.132849844 10.0\">\n",
              "          <shape>\n",
              "            <appearance>\n",
              "              <material diffuseColor=\"0.565 0.565 0.565\"/>\n",
              "            </appearance>\n",
              "            <sphere radius=\"0.76\"/>\n",
              "          </shape>\n",
              "        </transform>\n",
              "        <transform translation=\"0.001785986227 2.840942346 10.0\">\n",
              "          <shape>\n",
              "            <appearance>\n",
              "              <material diffuseColor=\"0.565 0.565 0.565\"/>\n",
              "            </appearance>\n",
              "            <sphere radius=\"0.76\"/>\n",
              "          </shape>\n",
              "        </transform>\n",
              "        <transform translation=\"-2.456828894 4.26039615 10.0\">\n",
              "          <shape>\n",
              "            <appearance>\n",
              "              <material diffuseColor=\"0.565 0.565 0.565\"/>\n",
              "            </appearance>\n",
              "            <sphere radius=\"0.76\"/>\n",
              "          </shape>\n",
              "        </transform>\n",
              "        <transform translation=\"-1.228214389 4.968465258 10.0\">\n",
              "          <shape>\n",
              "            <appearance>\n",
              "              <material diffuseColor=\"0.565 0.565 0.565\"/>\n",
              "            </appearance>\n",
              "            <sphere radius=\"0.76\"/>\n",
              "          </shape>\n",
              "        </transform>\n",
              "        <transform translation=\"2.460680412 0.003927684382 10.0\">\n",
              "          <shape>\n",
              "            <appearance>\n",
              "              <material diffuseColor=\"0.565 0.565 0.565\"/>\n",
              "            </appearance>\n",
              "            <sphere radius=\"0.76\"/>\n",
              "          </shape>\n",
              "        </transform>\n",
              "        <transform translation=\"3.689320007 0.7119887344 10.0\">\n",
              "          <shape>\n",
              "            <appearance>\n",
              "              <material diffuseColor=\"0.565 0.565 0.565\"/>\n",
              "            </appearance>\n",
              "            <sphere radius=\"0.76\"/>\n",
              "          </shape>\n",
              "        </transform>\n",
              "        <transform translation=\"1.230680432 2.131450373 10.0\">\n",
              "          <shape>\n",
              "            <appearance>\n",
              "              <material diffuseColor=\"0.565 0.565 0.565\"/>\n",
              "            </appearance>\n",
              "            <sphere radius=\"0.76\"/>\n",
              "          </shape>\n",
              "        </transform>\n",
              "        <transform translation=\"2.459319568 2.839535444 10.0\">\n",
              "          <shape>\n",
              "            <appearance>\n",
              "              <material diffuseColor=\"0.565 0.565 0.565\"/>\n",
              "            </appearance>\n",
              "            <sphere radius=\"0.76\"/>\n",
              "          </shape>\n",
              "        </transform>\n",
              "        <transform translation=\"0.0006799927237 4.258997083 10.0\">\n",
              "          <shape>\n",
              "            <appearance>\n",
              "              <material diffuseColor=\"0.565 0.565 0.565\"/>\n",
              "            </appearance>\n",
              "            <sphere radius=\"0.76\"/>\n",
              "          </shape>\n",
              "        </transform>\n",
              "        <transform translation=\"1.229319588 4.967058133 10.0\">\n",
              "          <shape>\n",
              "            <appearance>\n",
              "              <material diffuseColor=\"0.565 0.565 0.565\"/>\n",
              "            </appearance>\n",
              "            <sphere radius=\"0.76\"/>\n",
              "          </shape>\n",
              "        </transform>\n",
              "        <transform translation=\"4.918214389 0.002520560113 10.0\">\n",
              "          <shape>\n",
              "            <appearance>\n",
              "              <material diffuseColor=\"0.565 0.565 0.565\"/>\n",
              "            </appearance>\n",
              "            <sphere radius=\"0.76\"/>\n",
              "          </shape>\n",
              "        </transform>\n",
              "        <transform translation=\"6.146828894 0.7105896676 10.0\">\n",
              "          <shape>\n",
              "            <appearance>\n",
              "              <material diffuseColor=\"0.565 0.565 0.565\"/>\n",
              "            </appearance>\n",
              "            <sphere radius=\"0.76\"/>\n",
              "          </shape>\n",
              "        </transform>\n",
              "        <transform translation=\"3.688214014 2.130043472 10.0\">\n",
              "          <shape>\n",
              "            <appearance>\n",
              "              <material diffuseColor=\"0.565 0.565 0.565\"/>\n",
              "            </appearance>\n",
              "            <sphere radius=\"0.76\"/>\n",
              "          </shape>\n",
              "        </transform>\n",
              "        <transform translation=\"4.916828371 2.838135974 10.0\">\n",
              "          <shape>\n",
              "            <appearance>\n",
              "              <material diffuseColor=\"0.565 0.565 0.565\"/>\n",
              "            </appearance>\n",
              "            <sphere radius=\"0.76\"/>\n",
              "          </shape>\n",
              "        </transform>\n",
              "        <transform translation=\"2.458213755 4.257590396 10.0\">\n",
              "          <shape>\n",
              "            <appearance>\n",
              "              <material diffuseColor=\"0.565 0.565 0.565\"/>\n",
              "            </appearance>\n",
              "            <sphere radius=\"0.76\"/>\n",
              "          </shape>\n",
              "        </transform>\n",
              "        <transform translation=\"3.686828434 4.965659287 10.0\">\n",
              "          <shape>\n",
              "            <appearance>\n",
              "              <material diffuseColor=\"0.565 0.565 0.565\"/>\n",
              "            </appearance>\n",
              "            <sphere radius=\"0.76\"/>\n",
              "          </shape>\n",
              "        </transform>\n",
              "      </group>\n",
              "    </group>\n",
              "  </transform>\n",
              "</scene>\n",
              "<!--End of Inserted Scene-->\n",
              "\n",
              "        </X3D>\n",
              "    </body>\n",
              "</html>\n",
              "\n"
            ]
          },
          "metadata": {},
          "execution_count": 53
        }
      ]
    },
    {
      "cell_type": "code",
      "source": [
        "!dp_dos band.out dos.dat"
      ],
      "metadata": {
        "id": "5j9uZaX2QTjj"
      },
      "execution_count": 54,
      "outputs": []
    },
    {
      "cell_type": "code",
      "source": [
        "!grep Fermi detailed.out"
      ],
      "metadata": {
        "colab": {
          "base_uri": "https://localhost:8080/"
        },
        "id": "0Gy22TbJShe_",
        "outputId": "c249965f-24c6-4c84-f714-59116c0c4149"
      },
      "execution_count": 55,
      "outputs": [
        {
          "output_type": "stream",
          "name": "stdout",
          "text": [
            " Fermi distribution function\n",
            "Fermi level:                        -0.3693208246 H          -10.0497 eV\n"
          ]
        }
      ]
    },
    {
      "cell_type": "code",
      "source": [
        "import numpy as np\n",
        "import matplotlib.pyplot as plt\n",
        "\n",
        "dos_tot=np.loadtxt(\"dos.dat\")\n",
        "\n",
        "\n",
        "plt.plot(dos_tot[:,0],dos_tot[:,1],color=\"black\")\n",
        "\n",
        "plt.xlabel(\"Energy (eV)\")\n",
        "plt.ylabel(\"DOS (a.u.)\")\n",
        "plt.axis([-20, -9, 0, 20])\n",
        "plt.vlines(x=-10.0497,ymin=0,ymax=20,color=\"red\")\n",
        "plt.legend()\n",
        "plt.show()"
      ],
      "metadata": {
        "colab": {
          "base_uri": "https://localhost:8080/",
          "height": 492
        },
        "id": "2gH94FotQUjO",
        "outputId": "384d3f33-7b92-49cd-92a4-4eb1ffb7e77c"
      },
      "execution_count": 56,
      "outputs": [
        {
          "output_type": "stream",
          "name": "stderr",
          "text": [
            "No artists with labels found to put in legend.  Note that artists whose label start with an underscore are ignored when legend() is called with no argument.\n"
          ]
        },
        {
          "output_type": "display_data",
          "data": {
            "text/plain": [
              "<Figure size 640x480 with 1 Axes>"
            ],
            "image/png": "[encoded data removed]"
          },
          "metadata": {}
        }
      ]
    },
    {
      "cell_type": "markdown",
      "source": [
        "# MD with DFTB+\n",
        "\n",
        "To perform Molecular Dynamics with the DFTB+ code, you change the Driver snippet to:\n",
        "\n",
        "```\n",
        "Driver = VelocityVerlet{\n",
        "  TimeStep [fs] = 1.0\n",
        "  Thermostat = NoseHoover {\n",
        "    Temperature [Kelvin] = 400\n",
        "    CouplingStrength [cm^-1] = 3200\n",
        "  }\n",
        "  Steps = 20000\n",
        "  MovedAtoms = 1:-1\n",
        "  MDRestartFrequency = 100\n",
        "}\n",
        "\n",
        "```\n",
        "\n",
        "To speed up the SCC, we add additional keywords in the Driver section:\n",
        "\n",
        "```\n",
        "  XlbomdFast {\n",
        "    IntegrationSteps = 5\n",
        "    Scale = 0.5\n",
        "    TransientSteps = 10\n",
        "  }\n",
        "\n",
        "```\n",
        "\n",
        "This leads to worce forces, so we also need to add the following snippet to the Hamiltonian:\n",
        "\n",
        "```\n",
        "ForceEvaluation = Dynamics\n",
        "```\n"
      ],
      "metadata": {
        "id": "F9Po3FcWWxwS"
      }
    },
    {
      "cell_type": "code",
      "source": [
        "#THE MAIN INPUT FILE FOR DFTB+ CODE IS dftb_in.hsd.\n",
        "#THE CODE BELOW SHOW HOW TO WRITE SUCH A FILE.\n",
        "dftb_in='''\n",
        "Geometry = GenFormat {\n",
        "    <<< \"geo_end.gen\" #The file containing the geometry of the system\n",
        "}\n",
        "\n",
        "Driver = VelocityVerlet{\n",
        "  TimeStep [fs] = 1.0\n",
        "  Thermostat = NoseHoover {\n",
        "    Temperature [Kelvin] = 400\n",
        "    CouplingStrength [cm^-1] = 3200\n",
        "  }\n",
        "  Steps = 1000\n",
        "  MovedAtoms = 1:-1\n",
        "  MDRestartFrequency = 1\n",
        "  XlbomdFast {\n",
        "    IntegrationSteps = 5\n",
        "    Scale = 0.5\n",
        "    TransientSteps = 10\n",
        "}\n",
        "}\n",
        "\n",
        "Hamiltonian = xTB{ #THE \"Hamiltonian\" BLOCK GIVE SETTING FOR THE ELECTRONICS\n",
        "   Method = \"GFN1-xTB\"\n",
        "   KPointsAndWeights = SupercellFolding {\n",
        "      3 0 0\n",
        "      0 3 0\n",
        "      0 0 1\n",
        "      0.0 0.0 0.0\n",
        "   }\n",
        "   SCC = Yes\n",
        "   SCCTolerance = 1e-05 # SelfConsistentField convergence criterium.\n",
        "   Mixer = Broyden {\n",
        "       MixingParameter = 0.02\n",
        "   }\n",
        "   ForceEvaluation = Dynamics\n",
        "   Filling = Fermi {\n",
        "       Temperature [Kelvin] = 300\n",
        "   }\n",
        "   }\n",
        "Options {\n",
        "   WriteResultsTag = Yes\n",
        "   WriteDetailedXml = Yes\n",
        "}\n",
        "\n",
        "ParserOptions {\n",
        "   IgnoreUnprocessedNodes = Yes\n",
        "}\n",
        "'''\n",
        "f=open('dftb_in.hsd',\"w\")\n",
        "print(dftb_in,file=f)\n",
        "f.close()"
      ],
      "metadata": {
        "id": "4qmfyNeBXPql"
      },
      "execution_count": 61,
      "outputs": []
    },
    {
      "cell_type": "code",
      "source": [
        "!dftb+ > std.out"
      ],
      "metadata": {
        "id": "jXxgAjxtXdOk"
      },
      "execution_count": 62,
      "outputs": []
    },
    {
      "cell_type": "markdown",
      "source": [
        "The output from the MD is written to md.out and the trajectory file is in geo_end.xyz"
      ],
      "metadata": {
        "id": "6idK_5jjeavD"
      }
    },
    {
      "cell_type": "markdown",
      "source": [
        "More examples of graphene calculations can be found at https://dftbplus-recipes.readthedocs.io/en/latest/defect/carbon2d-elec.html\n",
        "\n",
        "\n",
        "How to build nanoribbons using ASE can be found here https://wiki.fysik.dtu.dk/ase/ase/build/build.html#graphene-nanoribbons\n",
        "\n",
        "## Task: plot the dos for a hydrogen saturated carbon zigzag nanoribbon"
      ],
      "metadata": {
        "id": "05XgxbhPTTAk"
      }
    },
    {
      "cell_type": "markdown",
      "source": [
        "# Reading any structure with ASE\n",
        "\n",
        "With ase you can read in principle any structure format and write the resulting atoms object to a dftb+ input using the following snippet:\n",
        "\n",
        "```\n",
        "from ase.io import read, write\n",
        "\n",
        "atoms = read('structure.cif')\n",
        "write(\"in.gen\",atoms)\n",
        "```\n",
        "\n",
        "Task: perform a geometry optimization using DFTB+ for a structure of your own."
      ],
      "metadata": {
        "id": "lZvyVdEqUF8H"
      }
    }
  ]
}