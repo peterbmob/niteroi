{
  "nbformat": 4,
  "nbformat_minor": 0,
  "metadata": {
    "colab": {
      "provenance": [],
      "authorship_tag": "ABX9TyPzcNKO5Wisd0/9j5wapQNu",
      "include_colab_link": true
    },
    "kernelspec": {
      "name": "python3",
      "display_name": "Python 3"
    },
    "language_info": {
      "name": "python"
    }
  },
  "cells": [
    {
      "cell_type": "markdown",
      "metadata": {
        "id": "view-in-github",
        "colab_type": "text"
      },
      "source": [
        "<a href=\"https://colab.research.google.com/github/peterbmob/niteroi/blob/main/2024/Tutorial_2.ipynb\" target=\"_parent\"><img src=\"https://colab.research.google.com/assets/colab-badge.svg\" alt=\"Open In Colab\"/></a>"
      ]
    },
    {
      "cell_type": "markdown",
      "source": [
        "# Tutorial 2\n",
        "\n",
        "In this example, we will perform a geometry optimisation and molecular dynamics of graphene using DFTB and the xTB parameterisation.\n",
        "\n",
        "To perform a geometry optimization, we need to modify the Driver section of the dftb input\n",
        "\n",
        "```\n",
        "Driver = ConjugateGradient{ #THE \"Driver\" BLOCK CONTROLS GEOMETRY OPTIMIZATION\n",
        "   MaxForceComponent = 0.0001\n",
        "   MaxSteps = 100\n",
        "   LatticeOpt = Yes\n",
        "   Isotropic = Yes\n",
        "   }\n",
        "```\n"
      ],
      "metadata": {
        "id": "8PUfvRu4CyO7"
      }
    },
    {
      "cell_type": "code",
      "execution_count": null,
      "metadata": {
        "id": "ZAf-S-3sCxks"
      },
      "outputs": [],
      "source": [
        "#@title Create environment and install required software\n",
        "# Conda is uninstalled every time you rehash yuor environment...\n",
        "#!conda --version\n",
        "#If !conda --version returns no results, install conda with :\n",
        "!pip install -q condacolab\n",
        "import condacolab\n",
        "condacolab.install()"
      ]
    },
    {
      "cell_type": "code",
      "source": [
        "%%capture\n",
        "!conda install -c conda-forge mamba dftbplus\n",
        "!conda install -c conda-forge dftbplus-tools\n",
        "!conda install -c conda-forge ase\n"
      ],
      "metadata": {
        "id": "6ppTZ-wQE7av"
      },
      "execution_count": 2,
      "outputs": []
    },
    {
      "cell_type": "code",
      "source": [
        "import ase.build\n",
        "\n",
        "atoms = ase.build.graphene(formula='C2', a=2.46, thickness=0.0, size=(3, 3, 1), vacuum=10)\n",
        "write(\"in.gen\",atoms)"
      ],
      "metadata": {
        "id": "KcRPRi-ZRp7b"
      },
      "execution_count": 35,
      "outputs": []
    },
    {
      "cell_type": "code",
      "source": [
        "#THE MAIN INPUT FILE FOR DFTB+ CODE IS dftb_in.hsd.\n",
        "#THE CODE BELOW SHOW HOW TO WRITE SUCH A FILE.\n",
        "dftb_in='''\n",
        "Geometry = GenFormat {\n",
        "    <<< \"in.gen\" #The file containing the geometry of the system\n",
        "}\n",
        "\n",
        "Driver = GeometryOptimisation{ #THE \"Driver\" BLOCK CONTROLS GEOMETRY OPTIMIZATION\n",
        "   Optimizer = Rational {}\n",
        "   MovedAtoms = 1:-1\n",
        "   MaxSteps = 100\n",
        "   LatticeOpt = Yes\n",
        "   Isotropic = Yes\n",
        "   Convergence {GradElem = 1E-4}\n",
        "   }\n",
        "\n",
        "Hamiltonian = xTB{ #THE \"Hamiltonian\" BLOCK GIVE SETTING FOR THE ELECTRONICS\n",
        "   Method = \"GFN1-xTB\"\n",
        "   KPointsAndWeights = SupercellFolding {\n",
        "      7 0 0\n",
        "      0 7 0\n",
        "      0 0 1\n",
        "      0.0 0.0 0.0\n",
        "   }\n",
        "   SCC = Yes\n",
        "   SCCTolerance = 1e-05 # SelfConsistentField convergence criterium.\n",
        "   Mixer = Broyden {\n",
        "       MixingParameter = 0.02\n",
        "   }\n",
        "   Filling = Fermi {\n",
        "       Temperature [Kelvin] = 300\n",
        "   }\n",
        "   }\n",
        "Options {\n",
        "   WriteResultsTag = Yes\n",
        "   WriteDetailedXml = Yes\n",
        "}\n",
        "\n",
        "ParserOptions {\n",
        "   IgnoreUnprocessedNodes = Yes\n",
        "}\n",
        "'''\n",
        "f=open('dftb_in.hsd',\"w\")\n",
        "print(dftb_in,file=f)\n",
        "f.close()"
      ],
      "metadata": {
        "id": "_fI_ccDuE_gd"
      },
      "execution_count": 51,
      "outputs": []
    },
    {
      "cell_type": "code",
      "source": [
        "!dftb+ > std.out"
      ],
      "metadata": {
        "id": "fYiMylfeGHGT"
      },
      "execution_count": 52,
      "outputs": []
    },
    {
      "cell_type": "code",
      "source": [
        "from ase.visualize import view\n",
        "\n",
        "atoms = read('geo_end.gen')\n",
        "atoms=atoms\n",
        "view(atoms, viewer='x3d')"
      ],
      "metadata": {
        "id": "3lZEbBqxIIeo"
      },
      "execution_count": null,
      "outputs": []
    },
    {
      "cell_type": "code",
      "source": [
        "!dp_dos band.out dos.dat"
      ],
      "metadata": {
        "id": "5j9uZaX2QTjj"
      },
      "execution_count": 54,
      "outputs": []
    },
    {
      "cell_type": "code",
      "source": [
        "!grep Fermi detailed.out"
      ],
      "metadata": {
        "id": "0Gy22TbJShe_"
      },
      "execution_count": null,
      "outputs": []
    },
    {
      "cell_type": "code",
      "source": [
        "import numpy as np\n",
        "import matplotlib.pyplot as plt\n",
        "\n",
        "dos_tot=np.loadtxt(\"dos.dat\")\n",
        "\n",
        "\n",
        "plt.plot(dos_tot[:,0],dos_tot[:,1],color=\"black\")\n",
        "\n",
        "plt.xlabel(\"Energy (eV)\")\n",
        "plt.ylabel(\"DOS (a.u.)\")\n",
        "plt.axis([-20, -9, 0, 20])\n",
        "plt.vlines(x=-10.0497,ymin=0,ymax=20,color=\"red\")\n",
        "plt.legend()\n",
        "plt.show()"
      ],
      "metadata": {
        "id": "2gH94FotQUjO"
      },
      "execution_count": null,
      "outputs": []
    },
    {
      "cell_type": "markdown",
      "source": [
        "# MD with DFTB+\n",
        "\n",
        "To perform Molecular Dynamics with the DFTB+ code, you change the Driver snippet to:\n",
        "\n",
        "```\n",
        "Driver = VelocityVerlet{\n",
        "  TimeStep [fs] = 1.0\n",
        "  Thermostat = NoseHoover {\n",
        "    Temperature [Kelvin] = 400\n",
        "    CouplingStrength [cm^-1] = 3200\n",
        "  }\n",
        "  Steps = 20000\n",
        "  MovedAtoms = 1:-1\n",
        "  MDRestartFrequency = 100\n",
        "}\n",
        "\n",
        "```\n",
        "\n",
        "To speed up the SCC, we add additional keywords in the Driver section:\n",
        "\n",
        "```\n",
        "  XlbomdFast {\n",
        "    IntegrationSteps = 5\n",
        "    Scale = 0.5\n",
        "    TransientSteps = 10\n",
        "  }\n",
        "\n",
        "```\n",
        "\n",
        "This leads to worce forces, so we also need to add the following snippet to the Hamiltonian:\n",
        "\n",
        "```\n",
        "ForceEvaluation = Dynamics\n",
        "```\n"
      ],
      "metadata": {
        "id": "F9Po3FcWWxwS"
      }
    },
    {
      "cell_type": "code",
      "source": [
        "#THE MAIN INPUT FILE FOR DFTB+ CODE IS dftb_in.hsd.\n",
        "#THE CODE BELOW SHOW HOW TO WRITE SUCH A FILE.\n",
        "dftb_in='''\n",
        "Geometry = GenFormat {\n",
        "    <<< \"geo_end.gen\" #The file containing the geometry of the system\n",
        "}\n",
        "\n",
        "Driver = VelocityVerlet{\n",
        "  TimeStep [fs] = 1.0\n",
        "  Thermostat = NoseHoover {\n",
        "    Temperature [Kelvin] = 400\n",
        "    CouplingStrength [cm^-1] = 3200\n",
        "  }\n",
        "  Steps = 1000\n",
        "  MovedAtoms = 1:-1\n",
        "  MDRestartFrequency = 1\n",
        "  XlbomdFast {\n",
        "    IntegrationSteps = 5\n",
        "    Scale = 0.5\n",
        "    TransientSteps = 10\n",
        "}\n",
        "}\n",
        "\n",
        "Hamiltonian = xTB{ #THE \"Hamiltonian\" BLOCK GIVE SETTING FOR THE ELECTRONICS\n",
        "   Method = \"GFN1-xTB\"\n",
        "   KPointsAndWeights = SupercellFolding {\n",
        "      3 0 0\n",
        "      0 3 0\n",
        "      0 0 1\n",
        "      0.0 0.0 0.0\n",
        "   }\n",
        "   SCC = Yes\n",
        "   SCCTolerance = 1e-05 # SelfConsistentField convergence criterium.\n",
        "   Mixer = Broyden {\n",
        "       MixingParameter = 0.02\n",
        "   }\n",
        "   ForceEvaluation = Dynamics\n",
        "   Filling = Fermi {\n",
        "       Temperature [Kelvin] = 300\n",
        "   }\n",
        "   }\n",
        "Options {\n",
        "   WriteResultsTag = Yes\n",
        "   WriteDetailedXml = Yes\n",
        "}\n",
        "\n",
        "ParserOptions {\n",
        "   IgnoreUnprocessedNodes = Yes\n",
        "}\n",
        "'''\n",
        "f=open('dftb_in.hsd',\"w\")\n",
        "print(dftb_in,file=f)\n",
        "f.close()"
      ],
      "metadata": {
        "id": "4qmfyNeBXPql"
      },
      "execution_count": 61,
      "outputs": []
    },
    {
      "cell_type": "code",
      "source": [
        "!dftb+ > std.out"
      ],
      "metadata": {
        "id": "jXxgAjxtXdOk"
      },
      "execution_count": 62,
      "outputs": []
    },
    {
      "cell_type": "markdown",
      "source": [
        "The output from the MD is written to md.out and the trajectory file is in geo_end.xyz"
      ],
      "metadata": {
        "id": "6idK_5jjeavD"
      }
    },
    {
      "cell_type": "markdown",
      "source": [
        "More examples of graphene calculations can be found at https://dftbplus-recipes.readthedocs.io/en/latest/defect/carbon2d-elec.html\n",
        "\n",
        "\n",
        "How to build nanoribbons using ASE can be found here https://wiki.fysik.dtu.dk/ase/ase/build/build.html#graphene-nanoribbons\n",
        "\n",
        "## Task: plot the dos for a hydrogen saturated carbon zigzag nanoribbon"
      ],
      "metadata": {
        "id": "05XgxbhPTTAk"
      }
    },
    {
      "cell_type": "markdown",
      "source": [
        "# Reading any structure with ASE\n",
        "\n",
        "With ase you can read in principle any structure format and write the resulting atoms object to a dftb+ input using the following snippet:\n",
        "\n",
        "```\n",
        "from ase.io import read, write\n",
        "\n",
        "atoms = read('structure.cif')\n",
        "write(\"in.gen\",atoms)\n",
        "```\n",
        "\n",
        "Task: perform a geometry optimization using DFTB+ for a structure of your own."
      ],
      "metadata": {
        "id": "lZvyVdEqUF8H"
      }
    }
  ]
}