{
  "nbformat": 4,
  "nbformat_minor": 0,
  "metadata": {
    "colab": {
      "provenance": [],
      "authorship_tag": "ABX9TyNz5VSO2wkS0sDHuVNSwj8T",
      "include_colab_link": true
    },
    "kernelspec": {
      "name": "python3",
      "display_name": "Python 3"
    },
    "language_info": {
      "name": "python"
    }
  },
  "cells": [
    {
      "cell_type": "markdown",
      "metadata": {
        "id": "view-in-github",
        "colab_type": "text"
      },
      "source": [
        "<a href=\"https://colab.research.google.com/github/peterbmob/niteroi/blob/main/Tutorial_2.ipynb\" target=\"_parent\"><img src=\"https://colab.research.google.com/assets/colab-badge.svg\" alt=\"Open In Colab\"/></a>"
      ]
    },
    {
      "cell_type": "markdown",
      "source": [
        "# CCS+Q - Molten NaCl revisited\n",
        "\n",
        "In this tutoral, we going to revisit a classic example, namely molten NaCl. This has been studied extensively in the literature. Recently, machinel learning potentials were used. Can CCS compete?"
      ],
      "metadata": {
        "id": "n4KSassRDR-B"
      }
    },
    {
      "cell_type": "markdown",
      "source": [
        "First, we install ´ccs´ and dowload the DFT dataset, here in the form of an ASE database. Then we load the necessary modules."
      ],
      "metadata": {
        "id": "d8zKTFzEE-rB"
      }
    },
    {
      "cell_type": "code",
      "source": [
        "import seaborn as sns"
      ],
      "metadata": {
        "id": "4x2FX5eznZ5b"
      },
      "execution_count": null,
      "outputs": []
    },
    {
      "cell_type": "code",
      "execution_count": null,
      "metadata": {
        "id": "nmVodrzlC_23"
      },
      "outputs": [],
      "source": [
        "%%capture\n",
        "!pip install ccs_fit\n",
        "!pip install pymatgen\n",
        "!wget https://github.com/peterbmob/niteroi/raw/main/DFT.db"
      ]
    },
    {
      "cell_type": "code",
      "source": [
        "!ase db DFT.db"
      ],
      "metadata": {
        "id": "jkr42lF8F_AK"
      },
      "execution_count": null,
      "outputs": []
    },
    {
      "cell_type": "code",
      "source": [
        "# Load in the relevant packages\n",
        "import os\n",
        "from ase.io import read,write\n",
        "from ase.build import bulk\n",
        "import numpy as np\n",
        "import ase.db as db\n",
        "from ase.visualize import view\n",
        "from ase.calculators.lj import LennardJones\n",
        "import matplotlib.pyplot as plt\n",
        "import pandas as pd\n",
        "from ase.geometry.analysis import Analysis\n",
        "base=os.getcwd()\n",
        "print('base is: ', os.getcwd())\n",
        "Fit_on_forces=True  #Enable/disable option for fitting CCS potential to atomic force"
      ],
      "metadata": {
        "id": "spIMPIbmFIHT"
      },
      "execution_count": null,
      "outputs": []
    },
    {
      "cell_type": "markdown",
      "source": [
        "# Look at the data"
      ],
      "metadata": {
        "id": "EWMm0vZGGLHb"
      }
    },
    {
      "cell_type": "code",
      "source": [
        "data=db.connect('DFT.db')\n",
        "\n",
        "energy=[]; fmax=[]; formula=[]; BL=[]; volume=[]\n",
        "df=pd.DataFrame()\n",
        "for row in data.select():\n",
        "  atoms=row.toatoms()\n",
        "  formula.append(row.formula)\n",
        "  energy.append(row.energy/len(atoms))\n",
        "  fmax.append(row.fmax)\n",
        "  volume.append(row.volume)\n",
        "  ana = Analysis(atoms)\n",
        "  Bonds = ana.get_bonds('Na', 'Cl', unique=True)\n",
        "  BondValues = ana.get_values(Bonds)\n",
        "  BL.append(np.average(BondValues))\n",
        "\n",
        "\n",
        "df['formula']=formula\n",
        "df['energy']=energy\n",
        "df['fmax']=fmax\n",
        "df['volume']=volume\n",
        "df['BL']=BL\n",
        "df\n",
        "sns.pairplot(df)\n"
      ],
      "metadata": {
        "id": "DHaA8lllGC3z"
      },
      "execution_count": null,
      "outputs": []
    },
    {
      "cell_type": "code",
      "source": [
        "df['volume'].unique()"
      ],
      "metadata": {
        "id": "ndQt4xkBGjH-"
      },
      "execution_count": null,
      "outputs": []
    },
    {
      "cell_type": "markdown",
      "source": [
        "# Let us start with a smaller subset of the data.\n",
        "To speed up the finding of the switching points, we start with a smaller subset of the data. Here, I want some data form the higher volume fraction and some from the lower ones."
      ],
      "metadata": {
        "id": "0mjMOlFeG-5J"
      }
    },
    {
      "cell_type": "code",
      "source": [
        "os.mkdir('potential')\n",
        "os.chdir('potential')"
      ],
      "metadata": {
        "id": "gu-D0j3JJxIU"
      },
      "execution_count": null,
      "outputs": []
    },
    {
      "cell_type": "code",
      "source": [
        "nu=pd.DataFrame({})\n",
        "groups=['low', 'high']\n",
        "\n",
        "for group in groups:\n",
        "    if group == 'low':\n",
        "        nums=np.random.randint(1,len(df.loc[df['volume']<2000]),50)\n",
        "        nu[group]=nums\n",
        "    if group == 'high':\n",
        "        nums=np.random.randint(1,len(df.loc[df['volume']>2000]),50)\n",
        "        nu[group]=nums"
      ],
      "metadata": {
        "id": "F4wSxjdMG953"
      },
      "execution_count": null,
      "outputs": []
    },
    {
      "cell_type": "code",
      "source": [
        "dw=db.connect('DFT_train.db')"
      ],
      "metadata": {
        "id": "fO80TbzMKzsZ"
      },
      "execution_count": null,
      "outputs": []
    },
    {
      "cell_type": "code",
      "source": [
        "energy=[]; fmax=[]; formula=[]; BL=[]; volume=[]; ok=[]\n",
        "data_train=pd.DataFrame({})\n",
        "\n",
        "for group in groups:\n",
        "    values=nu[group].sort_values()\n",
        "    counter = 0\n",
        "    if group == 'low':\n",
        "        for row in data.select('volume>2000'):\n",
        "            counter=counter+1\n",
        "            if counter in values:\n",
        "                atoms=row.toatoms()\n",
        "                formula.append(row.formula)\n",
        "                energy.append(row.energy/len(atoms))\n",
        "                fmax.append(row.fmax)\n",
        "                volume.append(row.volume)\n",
        "                ana = Analysis(atoms)\n",
        "                Bonds = ana.get_bonds('Na', 'Cl', unique=True)\n",
        "                BondValues = ana.get_values(Bonds)\n",
        "                BL.append(np.average(BondValues))\n",
        "                dw.write(atoms)\n",
        "    if group == 'high':\n",
        "        for row in data.select('volume<2000'):\n",
        "            counter=counter+1\n",
        "            if counter in values:\n",
        "                atoms=row.toatoms()\n",
        "                formula.append(row.formula)\n",
        "                energy.append(row.energy/len(atoms))\n",
        "                fmax.append(row.fmax)\n",
        "                volume.append(row.volume)\n",
        "                ana = Analysis(atoms)\n",
        "                Bonds = ana.get_bonds('Na', 'Cl', unique=True)\n",
        "                BondValues = ana.get_values(Bonds)\n",
        "                BL.append(np.average(BondValues))\n",
        "                dw.write(atoms)\n",
        "\n",
        "data_train['formula']=formula\n",
        "data_train['energy']=energy\n",
        "data_train['fmax']=fmax\n",
        "data_train['volume']=volume\n",
        "data_train['BL']=BL\n",
        "\n",
        "sns.pairplot(data_train)\n",
        "print(len(data_train))\n"
      ],
      "metadata": {
        "id": "e06hzsTZJNfD"
      },
      "execution_count": null,
      "outputs": []
    },
    {
      "cell_type": "code",
      "source": [
        "!ase db DFT_train.db"
      ],
      "metadata": {
        "id": "QKKEZTQ7aQeX"
      },
      "execution_count": null,
      "outputs": []
    },
    {
      "cell_type": "markdown",
      "source": [
        "# Fetch the data using ccs_fetch"
      ],
      "metadata": {
        "id": "vv36-ynXLm-C"
      }
    },
    {
      "cell_type": "code",
      "source": [
        "from ccs_fit.scripts.ccs_fetch import ccs_fetch\n",
        "\n",
        "q={\"Na\":1.0,\"Cl\":-1.0}\n",
        "ccs_fetch(mode='CCS+Q', DFT_DB='DFT_train.db', charge_dict=q, include_forces=Fit_on_forces)\n"
      ],
      "metadata": {
        "id": "ZMOSMhhqJP8U"
      },
      "execution_count": null,
      "outputs": []
    },
    {
      "cell_type": "markdown",
      "source": [
        "# Generate input\n",
        "Here in the first attempt, we use a large value for `Resolution` to speed up thesearch for the switching point."
      ],
      "metadata": {
        "id": "5YKHXfWZNn0G"
      }
    },
    {
      "cell_type": "code",
      "source": [
        "### Generate input.json file\n",
        "import json\n",
        "\n",
        "input={\n",
        "    \"General\": {\n",
        "        \"interface\": \"CCS+Q\",\n",
        "        \"merging\"  : \"True\",\n",
        "    },\n",
        "    \"Twobody\": {\n",
        "                \"Cl-Na\": {\n",
        "                        \"Rcut\": 5.5,\n",
        "                        \"Resolution\": 0.25,\n",
        "                        \"Swtype\": \"sw\",\n",
        "                        \"const_type\" : \"Mono\"\n",
        "                },\n",
        "                \"Cl-Cl\": {\n",
        "                        \"Rcut\": 5.5,\n",
        "                        \"Resolution\": 0.25,\n",
        "                        \"Swtype\": \"rep\",\n",
        "                        \"const_type\" : \"Mono\"\n",
        "                },\n",
        "                \"Na-Na\": {\n",
        "                        \"Rcut\": 5.5,\n",
        "                        \"Resolution\": 0.25,\n",
        "                        \"Swtype\": \"rep\",\n",
        "                        \"const_type\" : \"Mono\"\n",
        "                }\n",
        "        }\n",
        "}\n",
        "#SAVE TO FILE\n",
        "with open('CCS_input.json', 'w') as f:\n",
        "    json.dump(input, f, indent=8)"
      ],
      "metadata": {
        "id": "0yGy9gmcMIEw"
      },
      "execution_count": null,
      "outputs": []
    },
    {
      "cell_type": "code",
      "source": [
        "#RUN FIT\n",
        "from ccs_fit import ccs_fit\n",
        "\n",
        "ccs_fit(\"CCS_input.json\")\n"
      ],
      "metadata": {
        "id": "dzPdGYcuNsX_"
      },
      "execution_count": null,
      "outputs": []
    },
    {
      "cell_type": "code",
      "source": [
        "import numpy as np\n",
        "import matplotlib.pyplot as plt\n",
        "\n",
        "#with open(\"CCS_params_reference.json\", \"r\") as f:\n",
        "#    CCS_params_ref = json.load(f)\n",
        "\n",
        "with open(\"CCS_params.json\", \"r\") as f:\n",
        "    CCS_params = json.load(f)\n",
        "\n",
        "#r_ref = np.array(CCS_params_ref[\"Two_body\"][\"Ca-O\"][\"r\"])\n",
        "#e_ref = CCS_params_ref[\"Two_body\"][\"Ca-O\"][\"spl_a\"]\n",
        "\n",
        "\n",
        "r = np.array(CCS_params[\"Two_body\"][\"Cl-Na\"][\"r\"])\n",
        "e = CCS_params[\"Two_body\"][\"Cl-Na\"][\"spl_a\"]\n",
        "plt.plot(r,e,'--',color='red',label=\"Cl-Na\")\n",
        "\n",
        "r = np.array(CCS_params[\"Two_body\"][\"Na-Na\"][\"r\"])\n",
        "e = CCS_params[\"Two_body\"][\"Na-Na\"][\"spl_a\"]\n",
        "plt.plot(r,e,'--',color='b',label=\"Na-Na\")\n",
        "\n",
        "r = np.array(CCS_params[\"Two_body\"][\"Cl-Cl\"][\"r\"])\n",
        "e = CCS_params[\"Two_body\"][\"Cl-Cl\"][\"spl_a\"]\n",
        "plt.plot(r,e,'--',color='g',label=\"Cl-Cl\")\n",
        "\n",
        "plt.xlim(1.,8)\n",
        "plt.ylim(-1.5,2.0)\n",
        "plt.xlabel('Distance (Å)')\n",
        "plt.ylabel('Potential (eV)')\n",
        "\n",
        "plt.legend()\n",
        "plt.show()"
      ],
      "metadata": {
        "id": "S-HLucryN90p"
      },
      "execution_count": null,
      "outputs": []
    },
    {
      "cell_type": "markdown",
      "source": [
        "# second run with specified switching point."
      ],
      "metadata": {
        "id": "Uc2hiIHWPBIm"
      }
    },
    {
      "cell_type": "code",
      "source": [
        "### Generate input.json file\n",
        "import json\n",
        "\n",
        "input={\n",
        "    \"General\": {\n",
        "        \"interface\": \"CCS+Q\",\n",
        "        \"merging\"  : \"True\",\n",
        "    },\n",
        "    \"Twobody\": {\n",
        "                \"Cl-Na\": {\n",
        "                        \"Rcut\": 5.5,\n",
        "                        \"Resolution\": 0.02,\n",
        "                        \"Swtype\": \"sw\",\n",
        "                        \"const_type\" : \"Mono\",\n",
        "                        \"search_mode\": \"range\",\n",
        "                        \"range_center\": 2.3,\n",
        "                        \"range_width\": 0.2\n",
        "                },\n",
        "                \"Cl-Cl\": {\n",
        "                        \"Rcut\": 5.5,\n",
        "                        \"Resolution\": 0.02,\n",
        "                        \"Swtype\": \"rep\",\n",
        "                        \"const_type\" : \"Mono\"\n",
        "                },\n",
        "                \"Na-Na\": {\n",
        "                        \"Rcut\": 5.5,\n",
        "                        \"Resolution\": 0.02,\n",
        "                        \"Swtype\": \"rep\",\n",
        "                        \"const_type\" : \"Mono\"\n",
        "                }\n",
        "        }\n",
        "}\n",
        "#SAVE TO FILE\n",
        "with open('CCS_input.json', 'w') as f:\n",
        "    json.dump(input, f, indent=8)"
      ],
      "metadata": {
        "id": "ehmVTYH-OReO"
      },
      "execution_count": null,
      "outputs": []
    },
    {
      "cell_type": "code",
      "source": [
        "from ccs_fit import ccs_fit\n",
        "\n",
        "ccs_fit(\"CCS_input.json\")"
      ],
      "metadata": {
        "id": "sBiksKigPiGN"
      },
      "execution_count": null,
      "outputs": []
    },
    {
      "cell_type": "code",
      "source": [
        "import numpy as np\n",
        "import matplotlib.pyplot as plt\n",
        "\n",
        "with open(\"CCS_params.json\", \"r\") as f:\n",
        "    CCS_params = json.load(f)\n",
        "\n",
        "\n",
        "r = np.array(CCS_params[\"Two_body\"][\"Cl-Na\"][\"r\"])\n",
        "e = CCS_params[\"Two_body\"][\"Cl-Na\"][\"spl_a\"]\n",
        "plt.plot(r,e,'--',color='red',label=\"Cl-Na\")\n",
        "\n",
        "r = np.array(CCS_params[\"Two_body\"][\"Na-Na\"][\"r\"])\n",
        "e = CCS_params[\"Two_body\"][\"Na-Na\"][\"spl_a\"]\n",
        "plt.plot(r,e,'--',color='b',label=\"Na-Na\")\n",
        "\n",
        "r = np.array(CCS_params[\"Two_body\"][\"Cl-Cl\"][\"r\"])\n",
        "e = CCS_params[\"Two_body\"][\"Cl-Cl\"][\"spl_a\"]\n",
        "plt.plot(r,e,'--',color='g',label=\"Cl-Cl\")\n",
        "\n",
        "plt.xlim(1.,8)\n",
        "plt.ylim(-1.5,2.0)\n",
        "plt.xlabel('Distance (Å)')\n",
        "plt.ylabel('Potential (eV)')\n",
        "\n",
        "plt.legend()\n",
        "plt.show()"
      ],
      "metadata": {
        "id": "IY1NIJ4SPt1M"
      },
      "execution_count": null,
      "outputs": []
    },
    {
      "cell_type": "markdown",
      "source": [
        "# Validation\n",
        "\n",
        "First, let's see how it performs for the training set\n",
        "\n"
      ],
      "metadata": {
        "id": "0BFQ6hmxP2cd"
      }
    },
    {
      "cell_type": "code",
      "source": [
        "import ase.db as db\n",
        "from ccs_fit.ase_calculator.ccs_ase_calculator import CCS\n",
        "import pandas as pd\n",
        "with open('CCS_params.json', 'r') as f:\n",
        "    CCS_params=json.load(f)\n",
        "\n",
        "df=db.connect('DFT_train.db')\n",
        "model=[];DFT=[]\n",
        "for row in df.select():\n",
        "    struct=row.toatoms()\n",
        "    nat=len(struct)\n",
        "    struct.calc=CCS(CCS_params=CCS_params, q=q, charge_scaling=True)\n",
        "    model.append(struct.get_total_energy()/nat)\n",
        "    DFT.append(row.energy/nat)\n",
        "check=pd.DataFrame({'model':model, 'DFT':DFT})"
      ],
      "metadata": {
        "id": "1UB5_AuiP5iO"
      },
      "execution_count": null,
      "outputs": []
    },
    {
      "cell_type": "code",
      "source": [
        "sns.lmplot(x='model', y='DFT',data=check,fit_reg=True)\n"
      ],
      "metadata": {
        "id": "44z7LnfKQUdy"
      },
      "execution_count": null,
      "outputs": []
    },
    {
      "cell_type": "code",
      "source": [
        "sns.residplot(x='model', y='DFT',data=check)"
      ],
      "metadata": {
        "id": "E7KmyocsQVP4"
      },
      "execution_count": null,
      "outputs": []
    },
    {
      "cell_type": "markdown",
      "source": [
        "The same data is already computed by `ccs`"
      ],
      "metadata": {
        "id": "iAeAr5pRQhuu"
      }
    },
    {
      "cell_type": "code",
      "source": [
        "err=np.loadtxt(\"CCS_error.out\")\n",
        "plt.xlabel('Reference energy (eV)')\n",
        "plt.ylabel('Validation energy (eV)')\n",
        "plt.plot( [min(err[:,0]),max(err[:,0])],[min(err[:,0]),max(err[:,0])],'--',color='black'  )\n",
        "plt.scatter(err[:,0],err[:,1],facecolors='none', edgecolors='red')\n",
        "plt.show()\n",
        "plt.xlabel('Reference energy (eV)')\n",
        "plt.ylabel('Error in fit (eV)')\n",
        "plt.scatter(err[:,0],err[:,2],facecolors='none', edgecolors='red')\n",
        "plt.show()\n",
        "\n",
        "\n",
        "try:\n",
        "    err_F=np.loadtxt(\"CCS_error_forces.out\")\n",
        "    plt.xlabel('Reference force (eV/Å)')\n",
        "    plt.ylabel('Fitted force (eV/Å)')\n",
        "    plt.plot( [min(err_F[:,0]),max(err_F[:,0])],[min(err_F[:,0]),max(err_F[:,0])],'--',color='black')\n",
        "    plt.scatter(err_F[:,0],err_F[:,1],facecolors='none', edgecolors='red',alpha=0.1 )\n",
        "    plt.show()\n",
        "except:\n",
        "    pass\n",
        "\n"
      ],
      "metadata": {
        "id": "-ds1PnS0QXhb"
      },
      "execution_count": null,
      "outputs": []
    },
    {
      "cell_type": "markdown",
      "source": [
        "This is for the data we have trained on... what about the data we have not trained on."
      ],
      "metadata": {
        "id": "vFr2S0r3RCI7"
      }
    },
    {
      "cell_type": "code",
      "source": [
        "from ase import db\n",
        "from ccs_fit.ase_calculator.ccs_ase_calculator import CCS\n",
        "import pandas as pd\n",
        "with open('CCS_params.json', 'r') as f:\n",
        "    CCS_params=json.load(f)\n",
        "\n",
        "db=db.connect('../DFT.db')\n",
        "model=[];DFT=[]\n",
        "for row in db.select():\n",
        "    struct=row.toatoms()\n",
        "    nat=len(struct)\n",
        "    struct.calc=CCS(CCS_params=CCS_params, q=q, charge_scaling=True)\n",
        "    model.append(struct.get_total_energy()/nat)\n",
        "    DFT.append(row.energy/nat)\n",
        "check_val=pd.DataFrame({'model':model, 'DFT':DFT})"
      ],
      "metadata": {
        "id": "UCbhb1lhQ9LV"
      },
      "execution_count": null,
      "outputs": []
    },
    {
      "cell_type": "code",
      "source": [
        "sns.lmplot(x='model', y='DFT',data=check,fit_reg=True)\n",
        "sns.lmplot(x='model', y='DFT',data=check_val,fit_reg=True)\n"
      ],
      "metadata": {
        "id": "FgzQvq0xRcWa"
      },
      "execution_count": null,
      "outputs": []
    },
    {
      "cell_type": "code",
      "source": [
        "sns.residplot(x='model', y='DFT',data=check)\n",
        "sns.residplot(x='model', y='DFT',data=check_val)"
      ],
      "metadata": {
        "id": "CpZIHsyYRlfr"
      },
      "execution_count": null,
      "outputs": []
    },
    {
      "cell_type": "markdown",
      "source": [
        "Can we do better? probably... try to add more data and rerun."
      ],
      "metadata": {
        "id": "nTuEcnlMRsI8"
      }
    },
    {
      "cell_type": "markdown",
      "source": [
        "Export to other formats"
      ],
      "metadata": {
        "id": "_yxH2-gMvRSG"
      }
    },
    {
      "cell_type": "code",
      "source": [
        "from ccs_fit.scripts.ccs_export_FF import write_FF\n",
        "write_FF(\"CCS_params.json\")"
      ],
      "metadata": {
        "id": "EmGmhkltvT6p"
      },
      "execution_count": null,
      "outputs": []
    },
    {
      "cell_type": "markdown",
      "source": [
        "#MD with ASE"
      ],
      "metadata": {
        "id": "HyqYvyi6u04j"
      }
    },
    {
      "cell_type": "code",
      "source": [
        "from ase.lattice.cubic import FaceCenteredCubic\n",
        "from ase.md.velocitydistribution import MaxwellBoltzmannDistribution\n",
        "from ase.md.langevin import Langevin\n",
        "from ase import units\n",
        "from ccs_fit.ase_calculator.ccs_ase_calculator import CCS\n",
        "from ase.io.trajectory import Trajectory\n",
        "from ase.build import bulk\n",
        "import json\n",
        "\n",
        "\n",
        "json_file = open(\"CCS_params.json\")\n",
        "CCS_params = json.load(json_file)\n",
        "\n",
        "\n",
        "\n",
        "atoms=bulk('NaCl','rocksalt',a=6.369976562933614,cubic=True)\n",
        "atoms=atoms*[2,2,2]\n",
        "charge_dict={\"Na\":1,\"Cl\":-1}\n",
        "\n",
        "calc = CCS(CCS_params=CCS_params)\n",
        "atoms.calc=calc\n",
        "\n",
        "print(\"Initial energy:\", atoms.get_potential_energy())\n",
        "\n",
        "T=1174\n",
        "\n",
        "# Set the momenta corresponding to T=300K\n",
        "MaxwellBoltzmannDistribution(atoms, temperature_K=T)\n",
        "\n",
        "# We want to run MD with constant energy using the VelocityVerlet algorithm.\n",
        "dyn = Langevin(atoms, 2 * units.fs, T * units.kB, 0.1)\n",
        "\n",
        "\n",
        "def printenergy(a):\n",
        "    \"\"\"Function to print the potential, kinetic and total energy\"\"\"\n",
        "    epot = a.get_potential_energy() / len(a)\n",
        "    ekin = a.get_kinetic_energy() / len(a)\n",
        "    print('Energy per atom: Epot = %.3feV  Ekin = %.3feV (T=%3.0fK)  '\n",
        "          'Etot = %.3feV' % (epot, ekin, ekin / (1.5 * units.kB), epot + ekin))\n",
        "\n",
        "#Equillibrate\n",
        "printenergy(atoms)\n",
        "for i in range(10):\n",
        "    dyn.run(100)\n",
        "    printenergy(atoms)\n",
        "\n",
        "traj = Trajectory('moldyn.traj', 'w', atoms)\n",
        "dyn.attach(traj.write, interval=100)\n",
        "\n",
        "\n",
        "# Now run the dynamics\n",
        "printenergy(atoms)\n",
        "for i in range(30):\n",
        "    print(\"STEP: \", i*100,\" \",end='')\n",
        "    dyn.run(100)\n",
        "    printenergy(atoms)\n",
        "\n",
        "print(\"Final energy:\", atoms.get_potential_energy())"
      ],
      "metadata": {
        "id": "mdxPMrWpu3sq"
      },
      "execution_count": null,
      "outputs": []
    },
    {
      "cell_type": "code",
      "source": [
        "from ase.md.analysis import DiffusionCoefficient\n",
        "from ase.io.trajectory import Trajectory\n",
        "traj = Trajectory('moldyn.traj')\n",
        "Df=DiffusionCoefficient(traj, 200*units.fs, atom_indices=None, molecule=False)\n",
        "Df.calculate()\n",
        "D=Df.get_diffusion_coefficients()\n",
        "conv_factor=units.fs*0.1\n",
        "\n",
        "print(\"Na Diffusion constant:\", D[0][1]*conv_factor,\" cm^2/s, Standard deviation\",D[1][1]*conv_factor)\n",
        "print(\"Cl Diffusion constant:\", D[0][0]*conv_factor,\" cm^2/s, Standard deviation\",D[1][0]*conv_factor)\n",
        "\n",
        "\n",
        "print(\"REFERENCE VALUES FROM GAP POTENTIALS https://pubs.acs.org/doi/full/10.1021/acs.jpcc.0c08870\")\n",
        "\n",
        "print(\"Na Diffusion constant:  9.78E-5 cm^2/s, Standard deviation: 0.19E-5 \")\n",
        "print(\"Cl Diffusion constant:  7.73E-5 cm^2/s, Standard deviation: 0.11E-5 \")\n",
        "Df.plot()"
      ],
      "metadata": {
        "id": "-Kd_fdfVvIB1"
      },
      "execution_count": null,
      "outputs": []
    },
    {
      "cell_type": "code",
      "source": [
        "%%capture\n",
        "!wget https://github.com/Teoroo-CMC/CCS/raw/master/examples/Advanced_Tutorials/MD_tutorial/RefData/ClCl.txt\n",
        "!wget https://github.com/Teoroo-CMC/CCS/raw/master/examples/Advanced_Tutorials/MD_tutorial/RefData/NaCl.txt\n",
        "!wget https://github.com/Teoroo-CMC/CCS/raw/master/examples/Advanced_Tutorials/MD_tutorial/RefData/NaNa.txt"
      ],
      "metadata": {
        "id": "wSeXxKN4v2qq"
      },
      "execution_count": null,
      "outputs": []
    },
    {
      "cell_type": "code",
      "source": [
        "#Radial distribution function\n",
        "\n",
        "import numpy as np\n",
        "import itertools as iter\n",
        "traj = Trajectory('moldyn.traj')\n",
        "\n",
        "N_bins=60\n",
        "\n",
        "h_NaNa=np.zeros((N_bins,))\n",
        "h_NaCl=np.zeros((N_bins,))\n",
        "h_ClCl=np.zeros((N_bins,))\n",
        "counter=0\n",
        "N=len(atoms)\n",
        "\n",
        "d_NaNa=[]\n",
        "d_NaCl=[]\n",
        "d_ClCl=[]\n",
        "\n",
        "mask_Na=atoms.symbols=='Na'\n",
        "mask_Cl=atoms.symbols=='Cl'\n",
        "\n",
        "for a in traj:\n",
        "    counter += 1\n",
        "    a.wrap()\n",
        "    d_all = np.array(a.get_all_distances(mic=True)) # NxN matrix with all pair-distances\n",
        "    d_NaNa.extend( d_all[mask_Na,:] [:,mask_Na].flatten()) #Extract Na-Na distances\n",
        "    d_NaCl.extend( d_all[mask_Na,:] [:,mask_Cl].flatten()) #Extract Na-Cl distances\n",
        "    d_ClCl.extend( d_all[mask_Cl,:] [:,mask_Cl].flatten()) #Extract Cl-Cl distances\n",
        "\n",
        "\n",
        "hh,r=np.histogram(d_NaNa,range=(0,6),bins=60)\n",
        "vol=(4/3.)*np.pi*r**3\n",
        "nrm=np.diff(vol)\n",
        "h_NaNa = 4*hh/nrm/N/counter\n",
        "h_NaNa[0]=0\n",
        "\n",
        "hh,r=np.histogram(d_NaCl,range=(0,6),bins=60)\n",
        "vol=(4/3.)*np.pi*r**3\n",
        "nrm=np.diff(vol)\n",
        "h_NaCl = 4*hh/nrm/N/counter\n",
        "h_NaCl[0]=0\n",
        "\n",
        "hh,r=np.histogram(d_ClCl,range=(0,6),bins=60)\n",
        "vol=(4/3.)*np.pi*r**3\n",
        "nrm=np.diff(vol)\n",
        "h_ClCl = 4*hh/nrm/N/counter\n",
        "h_ClCl[0]=0\n",
        "\n",
        "\n",
        "import matplotlib.pyplot as plt\n",
        "Dens=len(atoms)/atoms.get_volume()\n",
        "\n",
        "plt.ylim(0,4)\n",
        "plt.plot(r[0:-1],h_ClCl/Dens,label=\"Cl-Cl\",color=\"green\")\n",
        "plt.plot(r[0:-1],h_NaCl/Dens,label=\"Na-Cl\",color=\"red\")\n",
        "plt.plot(r[0:-1],h_NaNa/Dens,label=\"Na-Na\",color=\"blue\")\n",
        "\n",
        "\n",
        "ref_NaNa=np.loadtxt('NaNa.txt')\n",
        "ref_NaCl=np.loadtxt('NaCl.txt')\n",
        "ref_ClCl=np.loadtxt('ClCl.txt')\n",
        "\n",
        "plt.plot(ref_NaNa[:,0],ref_NaNa[:,1,],'--',label=\"Ref. Na-Na\",color=\"blue\")\n",
        "plt.plot(ref_NaCl[:,0],ref_NaCl[:,1,],'--',label=\"Ref. Na-Cl\",color=\"red\")\n",
        "plt.plot(ref_ClCl[:,0],ref_ClCl[:,1,],'--',label=\"Ref. Cl-Cl\",color=\"green\")\n",
        "\n",
        "\n",
        "plt.legend()"
      ],
      "metadata": {
        "id": "CVZzvmHmvzjB"
      },
      "execution_count": null,
      "outputs": []
    }
  ]
}
