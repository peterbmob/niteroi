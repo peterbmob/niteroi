{
  "cells": [
    {
      "cell_type": "markdown",
      "metadata": {
        "id": "view-in-github",
        "colab_type": "text"
      },
      "source": [
        "<a href=\"https://colab.research.google.com/github/peterbmob/niteroi/blob/main/2023/Tutorial_1.ipynb\" target=\"_parent\"><img src=\"https://colab.research.google.com/assets/colab-badge.svg\" alt=\"Open In Colab\"/></a>"
      ]
    },
    {
      "cell_type": "markdown",
      "metadata": {
        "id": "gOicEP0aNX8M"
      },
      "source": [
        "# Solid Ne - Basic CCS fitting\n",
        "\n",
        "in this tutorial, we will train a 2-body CCS force-field for solid Ne. We will go through the basis usage of CCS, togethe..\n",
        "\n",
        "\n",
        "First, we install the necessary packages using pip."
      ]
    },
    {
      "cell_type": "code",
      "execution_count": null,
      "metadata": {
        "id": "ji2k3UFRMnKz"
      },
      "outputs": [],
      "source": [
        "%%capture\n",
        "!pip install ccs_fit"
      ]
    },
    {
      "cell_type": "markdown",
      "metadata": {
        "id": "efZM73wyOV72"
      },
      "source": [
        "## load necessary package"
      ]
    },
    {
      "cell_type": "code",
      "execution_count": null,
      "metadata": {
        "colab": {
          "base_uri": "https://localhost:8080/"
        },
        "id": "VDzVLp1-OSDl",
        "outputId": "04bf832f-f550-4f01-904c-17d60ed58613"
      },
      "outputs": [
        {
          "name": "stdout",
          "output_type": "stream",
          "text": [
            "base is:  /content\n"
          ]
        }
      ],
      "source": [
        "# Load in the relevant packages\n",
        "import os\n",
        "import seaborn as sns\n",
        "from ase.io import read,write\n",
        "from ase.build import bulk\n",
        "import numpy as np\n",
        "import ase.db as db\n",
        "from ase.visualize import view\n",
        "from ase.calculators.lj import LennardJones\n",
        "import matplotlib.pyplot as plt\n",
        "import pandas as pd\n",
        "from ase.geometry.analysis import Analysis\n",
        "base=os.getcwd()\n",
        "print('base is: ', os.getcwd())\n",
        "Fit_on_forces=True  #Enable/disable option for fitting CCS potential to atomic forces."
      ]
    },
    {
      "cell_type": "markdown",
      "metadata": {
        "id": "RyqHAUSfOjmi"
      },
      "source": [
        "## Generate training data (if you don't have any...)\n",
        "Curvature Constrained Splines can be fitted to a reference data-set with energies (and optionally forces) of pre-calculated structures. In this example we generate the reference data-set using a Lennard-Jones potential. We use a LJ bulk structure that we randomly rattle and scale."
      ]
    },
    {
      "cell_type": "code",
      "execution_count": null,
      "metadata": {
        "id": "eWvIHDKijBlQ"
      },
      "outputs": [],
      "source": [
        "os.mkdir(base+'/Potential')\n",
        "os.chdir(base+'/Potential')"
      ]
    },
    {
      "cell_type": "code",
      "execution_count": null,
      "metadata": {
        "id": "hRhf7RZ8OiC-"
      },
      "outputs": [],
      "source": [
        "LJ=bulk('Ne','fcc',a=1.55)\n",
        "LJ=LJ*[3,3,3]\n",
        "calc = LennardJones()\n",
        "LJ.calc = calc\n",
        "\n",
        "orig_cell = LJ.get_cell()\n",
        "orig_struc = LJ.copy()\n",
        "os.mkdir('CALCULATED_DATA')\n",
        "displacement_magnitude=0.02\n",
        "disp_steps=5\n",
        "rounds=3\n",
        "\n",
        "trainset_list=\"file_list\" # List of strucutres to include in the database (see below)\n",
        "f = open(trainset_list, \"w\")\n",
        "counter=1\n",
        "for round in range(rounds):\n",
        "    for scale in np.linspace(0.95, 1.05, 6):\n",
        "        new_cell = orig_cell*scale\n",
        "        new_struc = orig_struc.copy()\n",
        "        new_struc.set_cell(new_cell)\n",
        "        new_struc.calc = calc\n",
        "        nrg = new_struc.get_potential_energy()\n",
        "        for i in range(disp_steps):\n",
        "            rattle_struc = new_struc.copy()\n",
        "            rattle_struc.rattle(displacement_magnitude*i, seed=counter)\n",
        "            rattle_struc.calc = calc\n",
        "            nrg = rattle_struc.get_potential_energy()\n",
        "            if nrg < 0: # We exclude structures that are unreasonably high in energy\n",
        "                xyz_file=f\"CALCULATED_DATA/S{counter}.xyz\"\n",
        "                write(xyz_file,rattle_struc)\n",
        "                print(xyz_file,file=f)\n",
        "                counter += 1\n",
        "\n",
        "f.close()"
      ]
    },
    {
      "cell_type": "markdown",
      "metadata": {
        "id": "6t_947u0S0ta"
      },
      "source": [
        "## Building a reference database\n",
        "After generating the data, we collect it in an ASE database file. The file_list is a file containing a list of files to be collected into the data base.\n",
        "\n",
        "Example of a file_list file:\n",
        "\n",
        "CALCULATED_DATA/S1.xyz \\\\\n",
        "CALCULATED_DATA/S2.xyz \\\\\n",
        "CALCULATED_DATA/S3.xyz \\\\\n",
        "CALCULATED_DATA/S4.xyz \\\\\n",
        "\n",
        "Any format supported by ASE can be read in.\n",
        "\n"
      ]
    },
    {
      "cell_type": "code",
      "execution_count": null,
      "metadata": {
        "id": "-2o5JnWKTEgF"
      },
      "outputs": [],
      "source": [
        "from ccs_fit.scripts.ccs_build_db import ccs_build_db\n",
        "\n",
        "ccs_build_db(mode=\"CCS\",DFT_DB=\"LJ.db\",file_list=\"file_list\",overwrite=True)"
      ]
    },
    {
      "cell_type": "markdown",
      "metadata": {
        "id": "GYzy2r70Tol9"
      },
      "source": [
        "Look at the data"
      ]
    },
    {
      "cell_type": "code",
      "execution_count": null,
      "metadata": {
        "id": "W05pxax4TkBH"
      },
      "outputs": [],
      "source": [
        "!ase db LJ.db"
      ]
    },
    {
      "cell_type": "code",
      "execution_count": null,
      "metadata": {
        "id": "PuQYUIOFTxG1"
      },
      "outputs": [],
      "source": [
        "data=db.connect('LJ.db')\n",
        "\n",
        "energy=[]; fmax=[]; formula=[]; BL=[]; BA=[]\n",
        "df=pd.DataFrame()\n",
        "for row in data.select():\n",
        "  atoms=row.toatoms()\n",
        "  formula.append(row.formula)\n",
        "  energy.append(row.energy/len(atoms))\n",
        "  fmax.append(row.fmax)\n",
        "  ana = Analysis(atoms)\n",
        "  Bonds = ana.get_bonds('Ne', 'Ne', unique=True)\n",
        "  Angles = ana.get_angles('Ne', 'Ne', 'Ne', unique=True)\n",
        "  BondValues = ana.get_values(Bonds)\n",
        "  AngleValues = ana.get_values(Angles)\n",
        "  BL.append(np.average(BondValues))\n",
        "  BA.append(np.average(AngleValues))\n",
        "\n",
        "\n",
        "df['formula']=formula\n",
        "df['energy']=energy\n",
        "df['fmax']=fmax\n",
        "df['BL']=BL\n",
        "df['BA']=BA\n",
        "df\n",
        "sns.pairplot(df)\n"
      ]
    },
    {
      "cell_type": "markdown",
      "metadata": {
        "id": "5XUXaZPhbgy-"
      },
      "source": [
        "## Generate the CCS_fit input file; structures.json\n",
        "The next commands fetch the training set data from the ASE database containing the LJ structures and the corresponding energies. The reference data is called LJ.db since the reference energies and forces are obtained from a Lennard Jones potential."
      ]
    },
    {
      "cell_type": "code",
      "execution_count": null,
      "metadata": {
        "id": "gjKtxQiQawCj"
      },
      "outputs": [],
      "source": [
        "from ccs_fit.scripts.ccs_fetch import ccs_fetch\n",
        "\n",
        "ccs_fetch(mode=\"CCS\",DFT_DB=\"LJ.db\",include_forces=Fit_on_forces)"
      ]
    },
    {
      "cell_type": "markdown",
      "metadata": {
        "id": "Q41z4cUxb0Gk"
      },
      "source": [
        "## Fit training data to Curvature Constrained Splines\n",
        "Finally, the splines are fitted to the target defined in the structures.json input file. The splines can be restricted to be fully repulsive (\"rep\"), or have a turning point/switch (\"sw\"), which is defined by the \"Swtype\" key. A more comprehensive guide on the fitting options can be found in Advanced_Tutorials/Search_Mode."
      ]
    },
    {
      "cell_type": "markdown",
      "metadata": {
        "id": "nzXl86uHb-U2"
      },
      "source": [
        "# First shot to find optimal switching point"
      ]
    },
    {
      "cell_type": "code",
      "execution_count": null,
      "metadata": {
        "id": "gxVEJZfDZJLQ"
      },
      "outputs": [],
      "source": [
        "### Generate input.json file\n",
        "import json\n",
        "\n",
        "input={\n",
        "    \"General\": {\n",
        "        \"interface\": \"CCS\",\n",
        "        \"merging\"  : \"True\"\n",
        "    },\n",
        "    \"Twobody\": {\n",
        "                \"Ne-Ne\": {\n",
        "                        \"Rcut\": 5.0,\n",
        "                        \"Resolution\": 0.02,\n",
        "                        \"Swtype\": \"sw\",\n",
        "                        \"const_type\" : \"Mono\"\n",
        "                }\n",
        "        }\n",
        "}\n",
        "#SAVE TO FILE\n",
        "with open('CCS_input.json', 'w') as f:\n",
        "    json.dump(input, f, indent=8)\n"
      ]
    },
    {
      "cell_type": "code",
      "execution_count": null,
      "metadata": {
        "id": "JyzqzlPHcKNT"
      },
      "outputs": [],
      "source": [
        "#RUN FIT\n",
        "from ccs_fit import ccs_fit\n",
        "\n",
        "ccs_fit(\"CCS_input.json\")"
      ]
    },
    {
      "cell_type": "code",
      "execution_count": null,
      "metadata": {
        "id": "bdkGEE0lcv1t"
      },
      "outputs": [],
      "source": [
        "import numpy as np\n",
        "import matplotlib.pyplot as plt\n",
        "\n",
        "\n",
        "with open(\"CCS_params.json\", \"r\") as f:\n",
        "    CCS_params = json.load(f)\n",
        "\n",
        "\n",
        "r = np.array(CCS_params[\"Two_body\"][\"Ne-Ne\"][\"r\"])\n",
        "e = CCS_params[\"Two_body\"][\"Ne-Ne\"][\"spl_a\"]\n",
        "plt.plot(r,e,'--',color='red',label=\"Ne-Ne\")\n",
        "\n",
        "\n",
        "plt.xlim(0.,5)\n",
        "plt.ylim(-2.0,2.0)\n",
        "plt.xlabel('Distance (Å)')\n",
        "plt.ylabel('Potential (eV)')\n",
        "\n",
        "plt.legend()\n",
        "plt.show()"
      ]
    },
    {
      "cell_type": "markdown",
      "metadata": {
        "id": "Ez9alRfMfESa"
      },
      "source": [
        "When you are ready, it is time to validate the results."
      ]
    },
    {
      "cell_type": "code",
      "execution_count": null,
      "metadata": {
        "id": "MwcDszQBc6_b"
      },
      "outputs": [],
      "source": [
        "r=np.array(CCS_params[\"Two_body\"][\"Ne-Ne\"][\"r\"])\n",
        "e=CCS_params[\"Two_body\"][\"Ne-Ne\"][\"spl_a\"]\n",
        "e_LJ= 4 * ((1 / r) ** 12 - (1 / r) ** 6)\n",
        "plt.xlim(0.5,3)\n",
        "plt.ylim(-1.5,1)\n",
        "plt.xlabel('Distance (Å)')\n",
        "plt.ylabel('Potential (eV)')\n",
        "plt.plot(r,e_LJ,color='black',label=\"Ref. Lennard-Jones potential\")\n",
        "plt.plot(r,e,'--',color='red',label=\"Fitted potential\")\n",
        "plt.legend()\n",
        "plt.show()\n",
        "\n",
        "\n",
        "err=np.loadtxt(\"CCS_error.out\")\n",
        "plt.xlabel('Reference energy (eV)')\n",
        "plt.ylabel('Validation energy (eV)')\n",
        "plt.plot( [min(err[:,0]),max(err[:,0])],[min(err[:,0]),max(err[:,0])],'--',color='black'  )\n",
        "plt.scatter(err[:,0],err[:,1],facecolors='none', edgecolors='red')\n",
        "plt.show()\n",
        "plt.xlabel('Reference energy (eV)')\n",
        "plt.ylabel('Error in fit (eV)')\n",
        "plt.scatter(err[:,0],err[:,2],facecolors='none', edgecolors='red')\n",
        "plt.show()\n",
        "\n",
        "\n",
        "try:\n",
        "    err_F=np.loadtxt(\"CCS_error_forces.out\")\n",
        "    plt.xlabel('Reference force (eV/Å)')\n",
        "    plt.ylabel('Fitted force (eV/Å)')\n",
        "    plt.plot( [min(err_F[:,0]),max(err_F[:,0])],[min(err_F[:,0]),max(err_F[:,0])],'--',color='black')\n",
        "    plt.scatter(err_F[:,0],err_F[:,1],facecolors='none', edgecolors='red',alpha=0.1 )\n",
        "    plt.show()\n",
        "except:\n",
        "    pass\n",
        "\n",
        "with open(\"structures.json\", \"r\") as f:\n",
        "    training_set = json.load(f)\n",
        "d=[]\n",
        "for t in training_set[\"energies\"]:\n",
        "    d.extend(training_set[\"energies\"][t][\"Ne-Ne\"])\n",
        "\n",
        "plt.hist(d)\n",
        "plt.show()"
      ]
    },
    {
      "cell_type": "markdown",
      "metadata": {
        "id": "H_IwSdmQg_lo"
      },
      "source": [
        "## Fit other potential forms for export"
      ]
    },
    {
      "cell_type": "code",
      "execution_count": null,
      "metadata": {
        "id": "QAA8jwn8fhjL"
      },
      "outputs": [],
      "source": [
        "from ccs_fit.scripts.ccs_export_FF import write_FF\n",
        "\n",
        "write_FF(\"CCS_params.json\")"
      ]
    },
    {
      "cell_type": "code",
      "execution_count": null,
      "metadata": {
        "id": "Z5WojakDhNei"
      },
      "outputs": [],
      "source": [
        "ls"
      ]
    },
    {
      "cell_type": "code",
      "execution_count": null,
      "metadata": {
        "id": "n23gFKsdjUIc"
      },
      "outputs": [],
      "source": [
        "os.chdir(base)"
      ]
    },
    {
      "cell_type": "markdown",
      "metadata": {
        "id": "xNsn39-JhXhg"
      },
      "source": [
        "# Running simulations with ASE"
      ]
    },
    {
      "cell_type": "markdown",
      "metadata": {
        "id": "XdsYCxxghbos"
      },
      "source": [
        "# Geometry optimization\n"
      ]
    },
    {
      "cell_type": "code",
      "execution_count": null,
      "metadata": {
        "id": "gM2CGEt_hU21"
      },
      "outputs": [],
      "source": [
        "os.mkdir('GEOM')\n",
        "os.chdir('GEOM')"
      ]
    },
    {
      "cell_type": "code",
      "execution_count": null,
      "metadata": {
        "id": "ZKU_3kLdhlJT"
      },
      "outputs": [],
      "source": [
        "from ase import db\n",
        "from ccs_fit.ase_calculator.ccs_ase_calculator import CCS\n",
        "from ase.optimize import FIRE\n",
        "from ase.io import read, write\n",
        "\n",
        "with open('../CCS_params.json', 'r') as f:\n",
        "    CCS_params=json.load(f)\n",
        "\n",
        "structure=read('../LJ.db@2')\n",
        "structure.calc=CCS(CCS_params=CCS_params)\n",
        "geom = FIRE(structure, trajectory='test.traj')\n",
        "geom.run(fmax=0.05)"
      ]
    },
    {
      "cell_type": "markdown",
      "metadata": {
        "id": "t3g7J57wjnPr"
      },
      "source": [
        "### Analyse Trajectory"
      ]
    },
    {
      "cell_type": "code",
      "execution_count": null,
      "metadata": {
        "id": "_HeclioekAPY"
      },
      "outputs": [],
      "source": [
        "from ase.io.trajectory import Trajectory\n",
        "traj = Trajectory('test.traj')\n",
        "energy=[]\n",
        "for atoms in traj:\n",
        "    try:\n",
        "         energy.append(atoms.get_total_energy())\n",
        "    except:\n",
        "         pass\n",
        "\n",
        "plt.plot(energy)\n"
      ]
    },
    {
      "cell_type": "markdown",
      "metadata": {
        "id": "vUrhvG7NmUNb"
      },
      "source": [
        "If you want to look at the relaxation movie, download the file and open it directly with `ase gui`\n",
        "\n",
        "If you want other osoftwares, you have to convert the file to another format."
      ]
    },
    {
      "cell_type": "code",
      "execution_count": null,
      "metadata": {
        "id": "RY9_mq99mTj9"
      },
      "outputs": [],
      "source": [
        "!ase convert test.traj@: movie.xyz"
      ]
    },
    {
      "cell_type": "code",
      "execution_count": null,
      "metadata": {
        "id": "k0kIFVhKnB62"
      },
      "outputs": [],
      "source": [
        "os.chdir(base)"
      ]
    },
    {
      "cell_type": "markdown",
      "metadata": {
        "id": "gbEY3VK1iPyW"
      },
      "source": [
        "# RUN MD"
      ]
    },
    {
      "cell_type": "code",
      "execution_count": null,
      "metadata": {
        "id": "RJK1aXpgi22a"
      },
      "outputs": [],
      "source": [
        "\n",
        "os.mkdir(base+'/MD')\n",
        "os.chdir(base+'/MD')"
      ]
    },
    {
      "cell_type": "code",
      "execution_count": null,
      "metadata": {
        "colab": {
          "background_save": true
        },
        "id": "E61-OYc2iOsz"
      },
      "outputs": [],
      "source": [
        "from ase.md.velocitydistribution import MaxwellBoltzmannDistribution\n",
        "from ase.md.langevin import Langevin\n",
        "from ase import units\n",
        "from ccs_fit.ase_calculator.ccs_ase_calculator import CCS\n",
        "from ase.io.trajectory import Trajectory\n",
        "import json\n",
        "\n",
        "\n",
        "json_file = open(base+\"/potential/CCS_params.json\")\n",
        "CCS_params = json.load(json_file)\n",
        "\n",
        "\n",
        "\n",
        "atoms=read('../GEOM/test.traj')\n",
        "\n",
        "calc = CCS(CCS_params=CCS_params)\n",
        "atoms.calc=calc\n",
        "\n",
        "print(\"Initial energy:\", atoms.get_potential_energy())\n",
        "\n",
        "T=300\n",
        "\n",
        "# Set the momenta corresponding to T=300K\n",
        "MaxwellBoltzmannDistribution(atoms, temperature_K=T)\n",
        "\n",
        "# We want to run MD with constant T (NVT) using the Langevin thermostat.\n",
        "dyn = Langevin(atoms, 2 * units.fs, T * units.kB, 0.1)\n",
        "\n",
        "\n",
        "def printenergy(a):\n",
        "    \"\"\"Function to print the potential, kinetic and total energy\"\"\"\n",
        "    epot = a.get_potential_energy() / len(a)\n",
        "    ekin = a.get_kinetic_energy() / len(a)\n",
        "    print('Energy per atom: Epot = %.3feV  Ekin = %.3feV (T=%3.0fK)  '\n",
        "          'Etot = %.3feV' % (epot, ekin, ekin / (1.5 * units.kB), epot + ekin))\n",
        "\n",
        "#Equilibrate\n",
        "printenergy(atoms)\n",
        "for i in range(10):\n",
        "    dyn.run(100)\n",
        "    printenergy(atoms)\n",
        "\n",
        "traj = Trajectory('moldyn.traj', 'w', atoms)\n",
        "dyn.attach(traj.write, interval=100)\n",
        "\n",
        "\n",
        "# Now run the dynamics\n",
        "printenergy(atoms)\n",
        "for i in range(10):\n",
        "    print(\"STEP: \", i*100,\" \",end='')\n",
        "    dyn.run(100)\n",
        "    printenergy(atoms)\n",
        "\n",
        "print(\"Final energy:\", atoms.get_potential_energy())"
      ]
    },
    {
      "cell_type": "code",
      "execution_count": null,
      "metadata": {
        "id": "ULGb5453h18c"
      },
      "outputs": [],
      "source": [
        "from ase.md.analysis import DiffusionCoefficient\n",
        "from ase.io.trajectory import Trajectory\n",
        "traj = Trajectory('moldyn.traj')\n",
        "df=DiffusionCoefficient(traj, 200*units.fs, atom_indices=None, molecule=False)\n",
        "df.calculate()\n",
        "D=df.get_diffusion_coefficients()\n",
        "conv_factor=units.fs*0.1\n",
        "\n",
        "print(\"Ne Diffusion constant:\", D[0][0]*conv_factor,\" cm^2/s, Standard deviation\",D[1][0]*conv_factor)\n",
        "\n",
        "df.plot()\n"
      ]
    },
    {
      "cell_type": "code",
      "execution_count": null,
      "metadata": {
        "id": "VzL8RL8nscTe"
      },
      "outputs": [],
      "source": [
        "#Radial distribution function\n",
        "\n",
        "import numpy as np\n",
        "import itertools as iter\n",
        "traj = Trajectory('moldyn.traj')\n",
        "\n",
        "N_bins=60\n",
        "\n",
        "h_NeNe=np.zeros((N_bins,))\n",
        "\n",
        "counter=0\n",
        "N=len(atoms)\n",
        "\n",
        "d_NeNe=[]\n",
        "\n",
        "\n",
        "mask_Ne=atoms.symbols=='Ne'\n",
        "#\n",
        "\n",
        "for a in traj:\n",
        "    counter += 1\n",
        "    a.wrap()\n",
        "    d_all = np.array(a.get_all_distances(mic=True)) # NxN matrix with all pair-distances\n",
        "    d_NeNe.extend( d_all[mask_Ne,:] [:,mask_Ne].flatten()) #Extract Ne-Ne distances\n",
        "\n",
        "\n",
        "hh,r=np.histogram(d_NeNe,range=(0,6),bins=60)\n",
        "vol=(4/3.)*np.pi*r**3\n",
        "nrm=np.diff(vol)\n",
        "h_NeNe = 4*hh/nrm/N/counter\n",
        "h_NeNe[0]=0\n",
        "\n",
        "\n",
        "\n",
        "import matplotlib.pyplot as plt\n",
        "Dens=len(atoms)/atoms.get_volume()\n",
        "\n",
        "plt.ylim(0,4)\n",
        "plt.plot(r[0:-1],h_NeNe/Dens,label=\"Ne-Ne\",color=\"blue\")\n",
        "\n",
        "plt.legend()"
      ]
    }
  ],
  "metadata": {
    "colab": {
      "provenance": [],
      "authorship_tag": "ABX9TyPmziFOsNAXet8kipxNEP3D",
      "include_colab_link": true
    },
    "kernelspec": {
      "display_name": "Python 3",
      "name": "python3"
    },
    "language_info": {
      "name": "python"
    }
  },
  "nbformat": 4,
  "nbformat_minor": 0
}
