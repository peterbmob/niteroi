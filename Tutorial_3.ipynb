{
  "nbformat": 4,
  "nbformat_minor": 0,
  "metadata": {
    "colab": {
      "provenance": [],
      "authorship_tag": "ABX9TyPDW1XsptsRZ8J/02vn02wX",
      "include_colab_link": true
    },
    "kernelspec": {
      "name": "python3",
      "display_name": "Python 3"
    },
    "language_info": {
      "name": "python"
    }
  },
  "cells": [
    {
      "cell_type": "markdown",
      "metadata": {
        "id": "view-in-github",
        "colab_type": "text"
      },
      "source": [
        "<a href=\"https://colab.research.google.com/github/peterbmob/niteroi/blob/main/Tutorial_3.ipynb\" target=\"_parent\"><img src=\"https://colab.research.google.com/assets/colab-badge.svg\" alt=\"Open In Colab\"/></a>"
      ]
    },
    {
      "cell_type": "markdown",
      "source": [
        "# Fast generation of repulsive potentials for tight binding models\n",
        "Peter Broqvist, Thijs Smolders, and Jolla Kullgren\n",
        "\n",
        "\n",
        "### Let's generate a DFTB+CCS model for Li-CH$_3$H$_4$O$_3$\n",
        "\n",
        "This notebook takes you all the way from an ASE database with DFT structures to\n",
        "a SCC-DFTB+CCS model to be used within ASE. In the example, we will start from the xTB-model.\n"
      ],
      "metadata": {
        "id": "TBx8Gmo-2AcF"
      }
    },
    {
      "cell_type": "markdown",
      "source": [
        "## First, we need to set up the environment and upload the dataset\n",
        "\n",
        "\n"
      ],
      "metadata": {
        "id": "zHum7ShL9iDj"
      }
    },
    {
      "cell_type": "code",
      "source": [
        "!conda --version"
      ],
      "metadata": {
        "id": "yihLzRD5QBvQ"
      },
      "execution_count": null,
      "outputs": []
    },
    {
      "cell_type": "code",
      "source": [
        "# Conda is uninstalled every time you rehash yuor environment...\n",
        "#!conda --version\n",
        "#If !conda --version returns no results, install conda with :\n",
        "!pip install -q condacolab\n",
        "import condacolab\n",
        "condacolab.install()\n"
      ],
      "metadata": {
        "id": "3jW-M64x8hFH"
      },
      "execution_count": null,
      "outputs": []
    },
    {
      "cell_type": "code",
      "source": [
        "\n",
        "!conda --version"
      ],
      "metadata": {
        "id": "kDK9Zc1y862h"
      },
      "execution_count": null,
      "outputs": []
    },
    {
      "cell_type": "code",
      "source": [
        "%%capture\n",
        "!conda install -c conda-forge dftbplus"
      ],
      "metadata": {
        "id": "c7hR0kaA88Q-"
      },
      "execution_count": null,
      "outputs": []
    },
    {
      "cell_type": "code",
      "execution_count": null,
      "metadata": {
        "id": "B0VNWng7w1I5"
      },
      "outputs": [],
      "source": [
        "%%capture\n",
        "!pip install ccs_fit\n",
        "#!pip uninstall ase\n",
        "#!pip install --upgrade git+https://gitlab.com/ase/ase.git@master"
      ]
    },
    {
      "cell_type": "code",
      "source": [
        "%%capture\n",
        "!wget https://github.com/peterbmob/niteroi/raw/main/DFT_DB_train.db"
      ],
      "metadata": {
        "id": "cmXZW1W2ylM-"
      },
      "execution_count": null,
      "outputs": []
    },
    {
      "cell_type": "code",
      "source": [
        "!ase db DFT_DB_train.db"
      ],
      "metadata": {
        "id": "gewo4Cr94peY"
      },
      "execution_count": null,
      "outputs": []
    },
    {
      "cell_type": "markdown",
      "source": [
        "# xTB calcualtions on the DB structures\n"
      ],
      "metadata": {
        "id": "KjdN94_Q-sZs"
      }
    },
    {
      "cell_type": "code",
      "source": [
        "import os\n",
        "import sys\n",
        "from ase import Atoms\n",
        "from ase.db import connect\n",
        "from ase import io\n",
        "import ase.db\n",
        "\n",
        "from ase.optimize import FIRE, QuasiNewton\n",
        "from ase.io import read, write\n",
        "import ase.db\n",
        "from ase.units import *\n",
        "import numpy as np\n",
        "\n",
        "from ccs_fit.ase_calculator.ccs_ase_calculator import CCS"
      ],
      "metadata": {
        "id": "EM0rPMQvw4Tv"
      },
      "execution_count": null,
      "outputs": []
    },
    {
      "cell_type": "code",
      "source": [
        "#@title ASE DFTB\n",
        "\"\"\" This module defines a FileIOCalculator for DFTB+ with XTB\n",
        "\n",
        "http://www.dftbplus.org/\n",
        "http://www.dftb.org/\n",
        "\n",
        "Initial development: markus.kaukonen@iki.fi, Modified to be used with xTB.\n",
        "\"\"\"\n",
        "\n",
        "import os\n",
        "import numpy as np\n",
        "from ase.calculators.calculator import (FileIOCalculator, kpts2ndarray,\n",
        "                                        kpts2sizeandoffsets)\n",
        "from ase.units import Hartree, Bohr\n",
        "\n",
        "\n",
        "class Dftb_xtb(FileIOCalculator):\n",
        "\n",
        "    command = 'dftb+ > PREFIX.out'\n",
        "\n",
        "    implemented_properties = ['energy', 'forces', 'charges',\n",
        "                              'stress', 'dipole']\n",
        "    discard_results_on_any_change = True\n",
        "\n",
        "    def __init__(self, restart=None,\n",
        "                 ignore_bad_restart_file=FileIOCalculator._deprecated,\n",
        "                 label='dftb', atoms=None, kpts=None,\n",
        "                 slako_dir=None,\n",
        "                 **kwargs):\n",
        "        \"\"\"\n",
        "        All keywords for the dftb_in.hsd input file (see the DFTB+ manual)\n",
        "        can be set by ASE. Consider the following input file block:\n",
        "\n",
        "        >>> Hamiltonian = DFTB {\n",
        "        >>>     SCC = Yes\n",
        "        >>>     SCCTolerance = 1e-8\n",
        "        >>>     MaxAngularMomentum = {\n",
        "        >>>         H = s\n",
        "        >>>         O = p\n",
        "        >>>     }\n",
        "        >>> }\n",
        "\n",
        "        This can be generated by the DFTB+ calculator by using the\n",
        "        following settings:\n",
        "\n",
        "        >>> calc = Dftb(Hamiltonian_='DFTB',  # line is included by default\n",
        "        >>>             Hamiltonian_SCC='Yes',\n",
        "        >>>             Hamiltonian_SCCTolerance=1e-8,\n",
        "        >>>             Hamiltonian_MaxAngularMomentum_='',\n",
        "        >>>             Hamiltonian_MaxAngularMomentum_H='s',\n",
        "        >>>             Hamiltonian_MaxAngularMomentum_O='p')\n",
        "\n",
        "        In addition to keywords specific to DFTB+, also the following keywords\n",
        "        arguments can be used:\n",
        "\n",
        "        restart: str\n",
        "            Prefix for restart file.  May contain a directory.\n",
        "            Default is None: don't restart.\n",
        "        ignore_bad_restart_file: bool\n",
        "            Ignore broken or missing restart file. By default, it is an\n",
        "            error if the restart file is missing or broken.\n",
        "        label: str (default 'dftb')\n",
        "            Prefix used for the main output file (.out).\n",
        "        atoms: Atoms object (default None)\n",
        "            Optional Atoms object to which the calculator will be\n",
        "            attached. When restarting, atoms will get its positions and\n",
        "            unit-cell updated from file.\n",
        "        kpts: (default None)\n",
        "            Brillouin zone sampling:\n",
        "\n",
        "            * ``(1,1,1)`` or ``None``: Gamma-point only\n",
        "            * ``(n1,n2,n3)``: Monkhorst-Pack grid\n",
        "            * ``dict``: Interpreted as a path in the Brillouin zone if\n",
        "              it contains the 'path_' keyword. Otherwise it is converted\n",
        "              into a Monkhorst-Pack grid using\n",
        "              ``ase.calculators.calculator.kpts2sizeandoffsets``\n",
        "            * ``[(k11,k12,k13),(k21,k22,k23),...]``: Explicit (Nkpts x 3)\n",
        "              array of k-points in units of the reciprocal lattice vectors\n",
        "              (each with equal weight)\n",
        "\n",
        "        Additional attribute to be set by the embed() method:\n",
        "\n",
        "        pcpot: PointCharge object\n",
        "            An external point charge potential (for QM/MM calculations)\n",
        "        \"\"\"\n",
        "\n",
        "        #if slako_dir is None:\n",
        "            #slako_dir = os.environ.get('DFTB_PREFIX', './')\n",
        "            #if not slako_dir.endswith('/'):\n",
        "            #    slako_dir += '/'\n",
        "\n",
        "        #self.slako_dir = slako_dir\n",
        "\n",
        "        self.default_parameters = dict(\n",
        "            Hamiltonian_='DFTB',\n",
        "         #   Hamiltonian_SlaterKosterFiles_='Type2FileNames',\n",
        "         #   Hamiltonian_SlaterKosterFiles_Prefix=self.slako_dir,\n",
        "         #  Hamiltonian_SlaterKosterFiles_Separator='\"-\"',\n",
        "         #   Hamiltonian_SlaterKosterFiles_Suffix='\".skf\"',\n",
        "         #   Hamiltonian_MaxAngularMomentum_='',\n",
        "            Paralell_='',\n",
        "            Paralell_UseOmpThreads = 'Yes',\n",
        "            Analysis_='',\n",
        "            Analysis_CalculateForces = 'Yes',\n",
        "            Options_='',\n",
        "            Options_WriteResultsTag='Yes')\n",
        "\n",
        "\n",
        "        self.pcpot = None\n",
        "        self.lines = None\n",
        "        self.atoms = None\n",
        "        self.atoms_input = None\n",
        "        self.do_forces = True\n",
        "        self.outfilename = 'dftb.out'\n",
        "\n",
        "        FileIOCalculator.__init__(self, restart, ignore_bad_restart_file,\n",
        "                                  label, atoms,\n",
        "                                  **kwargs)\n",
        "\n",
        "        # Determine number of spin channels\n",
        "        try:\n",
        "            entry = kwargs['Hamiltonian_SpinPolarisation']\n",
        "            spinpol = 'colinear' in entry.lower()\n",
        "        except KeyError:\n",
        "            spinpol = False\n",
        "        self.nspin = 2 if spinpol else 1\n",
        "\n",
        "        # kpoint stuff by ase\n",
        "        self.kpts = kpts\n",
        "        self.kpts_coord = None\n",
        "\n",
        "        if self.kpts is not None:\n",
        "            initkey = 'Hamiltonian_KPointsAndWeights'\n",
        "            mp_mesh = None\n",
        "            offsets = None\n",
        "\n",
        "            if isinstance(self.kpts, dict):\n",
        "                if 'path' in self.kpts:\n",
        "                    # kpts is path in Brillouin zone\n",
        "                    self.parameters[initkey + '_'] = 'Klines '\n",
        "                    self.kpts_coord = kpts2ndarray(self.kpts, atoms=atoms)\n",
        "                else:\n",
        "                    # kpts is (implicit) definition of\n",
        "                    # Monkhorst-Pack grid\n",
        "                    self.parameters[initkey + '_'] = 'SupercellFolding '\n",
        "                    mp_mesh, offsets = kpts2sizeandoffsets(atoms=atoms,\n",
        "                                                           **self.kpts)\n",
        "            elif np.array(self.kpts).ndim == 1:\n",
        "                # kpts is Monkhorst-Pack grid\n",
        "                self.parameters[initkey + '_'] = 'SupercellFolding '\n",
        "                mp_mesh = self.kpts\n",
        "                offsets = [0.] * 3\n",
        "            elif np.array(self.kpts).ndim == 2:\n",
        "                # kpts is (N x 3) list/array of k-point coordinates\n",
        "                # each will be given equal weight\n",
        "                self.parameters[initkey + '_'] = ''\n",
        "                self.kpts_coord = np.array(self.kpts)\n",
        "            else:\n",
        "                raise ValueError('Illegal kpts definition:' + str(self.kpts))\n",
        "\n",
        "            if mp_mesh is not None:\n",
        "                eps = 1e-10\n",
        "                for i in range(3):\n",
        "                    key = initkey + '_empty%03d' % i\n",
        "                    val = [mp_mesh[i] if j == i else 0 for j in range(3)]\n",
        "                    self.parameters[key] = ' '.join(map(str, val))\n",
        "                    offsets[i] *= mp_mesh[i]\n",
        "                    assert abs(offsets[i]) < eps or abs(offsets[i] - 0.5) < eps\n",
        "                    # DFTB+ uses a different offset convention, where\n",
        "                    # the k-point mesh is already Gamma-centered prior\n",
        "                    # to the addition of any offsets\n",
        "                    if mp_mesh[i] % 2 == 0:\n",
        "                        offsets[i] += 0.5\n",
        "                key = initkey + '_empty%03d' % 3\n",
        "                self.parameters[key] = ' '.join(map(str, offsets))\n",
        "\n",
        "            elif self.kpts_coord is not None:\n",
        "                for i, c in enumerate(self.kpts_coord):\n",
        "                    key = initkey + '_empty%09d' % i\n",
        "                    c_str = ' '.join(map(str, c))\n",
        "                    if 'Klines' in self.parameters[initkey + '_']:\n",
        "                        c_str = '1 ' + c_str\n",
        "                    else:\n",
        "                        c_str += ' 1.0'\n",
        "                    self.parameters[key] = c_str\n",
        "\n",
        "    def write_dftb_in(self, outfile):\n",
        "        \"\"\" Write the innput file for the dftb+ calculation.\n",
        "            Geometry is taken always from the file 'geo_end.gen'.\n",
        "        \"\"\"\n",
        "\n",
        "        outfile.write('Geometry = GenFormat { \\n')\n",
        "        outfile.write('    <<< \"geo_end.gen\" \\n')\n",
        "        outfile.write('} \\n')\n",
        "        outfile.write(' \\n')\n",
        "\n",
        "        params = self.parameters.copy()\n",
        "\n",
        "        #s = 'Hamiltonian_MaxAngularMomentum_'\n",
        "        #for key in params:\n",
        "        #    if key.startswith(s) and len(key) > len(s):\n",
        "        #        break\n",
        "        #else:\n",
        "            # User didn't specify max angular mometa.  Get them from\n",
        "            # the .skf files:\n",
        "        #    symbols = set(self.atoms.get_chemical_symbols())\n",
        "        #    for symbol in symbols:\n",
        "        #        path = os.path.join(self.slako_dir,\n",
        "        #                            '{0}-{0}.skf'.format(symbol))\n",
        "        #        l = read_max_angular_momentum(path)\n",
        "        #        params[s + symbol] = '\"{}\"'.format('spdf'[l])\n",
        "\n",
        "        # --------MAIN KEYWORDS-------\n",
        "        previous_key = 'dummy_'\n",
        "        myspace = ' '\n",
        "        for key, value in sorted(params.items()):\n",
        "            current_depth = key.rstrip('_').count('_')\n",
        "            previous_depth = previous_key.rstrip('_').count('_')\n",
        "            for my_backsclash in reversed(\n",
        "                    range(previous_depth - current_depth)):\n",
        "                outfile.write(3 * (1 + my_backsclash) * myspace + '} \\n')\n",
        "            outfile.write(3 * current_depth * myspace)\n",
        "            if key.endswith('_') and len(value) > 0:\n",
        "                outfile.write(key.rstrip('_').rsplit('_')[-1] +\n",
        "                              ' = ' + str(value) + '{ \\n')\n",
        "            elif (key.endswith('_') and (len(value) == 0)\n",
        "                  and current_depth == 0):  # E.g. 'Options {'\n",
        "                outfile.write(key.rstrip('_').rsplit('_')[-1] +\n",
        "                              ' ' + str(value) + '{ \\n')\n",
        "            elif (key.endswith('_') and (len(value) == 0)\n",
        "                  and current_depth > 0):  # E.g. 'Hamiltonian_Max... = {'\n",
        "                outfile.write(key.rstrip('_').rsplit('_')[-1] +\n",
        "                              ' = ' + str(value) + '{ \\n')\n",
        "            elif key.count('_empty') == 1:\n",
        "                outfile.write(str(value) + ' \\n')\n",
        "            elif ((key == 'Hamiltonian_ReadInitialCharges') and\n",
        "                  (str(value).upper() == 'YES')):\n",
        "                f1 = os.path.isfile(self.directory + os.sep + 'charges.dat')\n",
        "                f2 = os.path.isfile(self.directory + os.sep + 'charges.bin')\n",
        "                if not (f1 or f2):\n",
        "                    print('charges.dat or .bin not found, switching off guess')\n",
        "                    value = 'No'\n",
        "                outfile.write(key.rsplit('_')[-1] + ' = ' + str(value) + ' \\n')\n",
        "            else:\n",
        "                outfile.write(key.rsplit('_')[-1] + ' = ' + str(value) + ' \\n')\n",
        "            if self.pcpot is not None and ('DFTB' in str(value)):\n",
        "                outfile.write('   ElectricField = { \\n')\n",
        "                outfile.write('      PointCharges = { \\n')\n",
        "                outfile.write(\n",
        "                    '         CoordsAndCharges [Angstrom] = DirectRead { \\n')\n",
        "                outfile.write('            Records = ' +\n",
        "                              str(len(self.pcpot.mmcharges)) + ' \\n')\n",
        "                outfile.write(\n",
        "                    '            File = \"dftb_external_charges.dat\" \\n')\n",
        "                outfile.write('         } \\n')\n",
        "                outfile.write('      } \\n')\n",
        "                outfile.write('   } \\n')\n",
        "            previous_key = key\n",
        "        current_depth = key.rstrip('_').count('_')\n",
        "        for my_backsclash in reversed(range(current_depth)):\n",
        "            outfile.write(3 * my_backsclash * myspace + '} \\n')\n",
        "        outfile.write('ParserOptions { \\n')\n",
        "        outfile.write('   IgnoreUnprocessedNodes = Yes  \\n')\n",
        "        outfile.write('} \\n')\n",
        "        if self.do_forces:\n",
        "            outfile.write('Analysis { \\n')\n",
        "            outfile.write('   CalculateForces = Yes  \\n')\n",
        "            outfile.write('} \\n')\n",
        "\n",
        "    def check_state(self, atoms):\n",
        "        system_changes = FileIOCalculator.check_state(self, atoms)\n",
        "        # Ignore unit cell for molecules:\n",
        "        if not atoms.pbc.any() and 'cell' in system_changes:\n",
        "            system_changes.remove('cell')\n",
        "        if self.pcpot and self.pcpot.mmpositions is not None:\n",
        "            system_changes.append('positions')\n",
        "        return system_changes\n",
        "\n",
        "    def write_input(self, atoms, properties=None, system_changes=None):\n",
        "        from ase.io import write\n",
        "        if properties is not None:\n",
        "            if 'forces' in properties or 'stress' in properties:\n",
        "                self.do_forces = True\n",
        "        FileIOCalculator.write_input(\n",
        "            self, atoms, properties, system_changes)\n",
        "        with open(os.path.join(self.directory, 'dftb_in.hsd'), 'w') as fd:\n",
        "            self.write_dftb_in(fd)\n",
        "        write(os.path.join(self.directory, 'geo_end.gen'), atoms,\n",
        "              parallel=False)\n",
        "        # self.atoms is none until results are read out,\n",
        "        # then it is set to the ones at writing input\n",
        "        self.atoms_input = atoms\n",
        "        self.atoms = None\n",
        "        if self.pcpot:\n",
        "            self.pcpot.write_mmcharges('dftb_external_charges.dat')\n",
        "\n",
        "    def read_results(self):\n",
        "        \"\"\" all results are read from results.tag file\n",
        "            It will be destroyed after it is read to avoid\n",
        "            reading it once again after some runtime error \"\"\"\n",
        "\n",
        "        with open(os.path.join(self.directory, 'results.tag'), 'r') as fd:\n",
        "            self.lines = fd.readlines()\n",
        "\n",
        "        self.atoms = self.atoms_input\n",
        "        charges, energy, dipole = self.read_charges_energy_dipole()\n",
        "        if charges is not None:\n",
        "            self.results['charges'] = charges\n",
        "        self.results['energy'] = energy\n",
        "        if dipole is not None:\n",
        "            self.results['dipole'] = dipole\n",
        "        if self.do_forces:\n",
        "            forces = self.read_forces()\n",
        "            self.results['forces'] = forces\n",
        "        self.mmpositions = None\n",
        "\n",
        "        # stress stuff begins\n",
        "        sstring = 'stress'\n",
        "        have_stress = False\n",
        "        stress = list()\n",
        "        for iline, line in enumerate(self.lines):\n",
        "            if sstring in line:\n",
        "                have_stress = True\n",
        "                start = iline + 1\n",
        "                end = start + 3\n",
        "                for i in range(start, end):\n",
        "                    cell = [float(x) for x in self.lines[i].split()]\n",
        "                    stress.append(cell)\n",
        "        if have_stress:\n",
        "            stress = -np.array(stress) * Hartree / Bohr**3\n",
        "            self.results['stress'] = stress.flat[[0, 4, 8, 5, 2, 1]]\n",
        "        # stress stuff ends\n",
        "\n",
        "        # eigenvalues and fermi levels\n",
        "        fermi_levels = self.read_fermi_levels()\n",
        "        if fermi_levels is not None:\n",
        "            self.results['fermi_levels'] = fermi_levels\n",
        "\n",
        "        eigenvalues = self.read_eigenvalues()\n",
        "        if eigenvalues is not None:\n",
        "            self.results['eigenvalues'] = eigenvalues\n",
        "\n",
        "        # calculation was carried out with atoms written in write_input\n",
        "        os.remove(os.path.join(self.directory, 'results.tag'))\n",
        "\n",
        "    def read_forces(self):\n",
        "        \"\"\"Read Forces from dftb output file (results.tag).\"\"\"\n",
        "        from ase.units import Hartree, Bohr\n",
        "\n",
        "        # Initialise the indices so their scope\n",
        "        # reaches outside of the for loop\n",
        "        index_force_begin = -1\n",
        "        index_force_end = -1\n",
        "\n",
        "        # Force line indexes\n",
        "        for iline, line in enumerate(self.lines):\n",
        "            fstring = 'forces   '\n",
        "            if line.find(fstring) >= 0:\n",
        "                index_force_begin = iline + 1\n",
        "                line1 = line.replace(':', ',')\n",
        "                index_force_end = iline + 1 + \\\n",
        "                    int(line1.split(',')[-1])\n",
        "                break\n",
        "\n",
        "        gradients = []\n",
        "        for j in range(index_force_begin, index_force_end):\n",
        "            word = self.lines[j].split()\n",
        "            gradients.append([float(word[k]) for k in range(0, 3)])\n",
        "\n",
        "        return np.array(gradients) * Hartree / Bohr\n",
        "\n",
        "    def read_charges_energy_dipole(self):\n",
        "        \"\"\"Get partial charges on atoms\n",
        "            in case we cannot find charges they are set to None\n",
        "        \"\"\"\n",
        "        with open(os.path.join(self.directory, 'detailed.out'), 'r') as fd:\n",
        "            lines = fd.readlines()\n",
        "\n",
        "        for line in lines:\n",
        "            if line.strip().startswith('Total energy:'):\n",
        "                energy = float(line.split()[2]) * Hartree\n",
        "                break\n",
        "\n",
        "        qm_charges = []\n",
        "        for n, line in enumerate(lines):\n",
        "            if ('Atom' and 'Charge' in line):\n",
        "                chargestart = n + 1\n",
        "                break\n",
        "        else:\n",
        "            # print('Warning: did not find DFTB-charges')\n",
        "            # print('This is ok if flag SCC=No')\n",
        "            return None, energy, None\n",
        "\n",
        "        lines1 = lines[chargestart:(chargestart + len(self.atoms))]\n",
        "        for line in lines1:\n",
        "            qm_charges.append(float(line.split()[-1]))\n",
        "\n",
        "        dipole = None\n",
        "        for line in lines:\n",
        "            if 'Dipole moment:' in line and 'au' in line:\n",
        "                words = line.split()\n",
        "                dipole = np.array(\n",
        "                    [float(w) for w in words[-4:-1]]) * Bohr\n",
        "\n",
        "        return np.array(qm_charges), energy, dipole\n",
        "\n",
        "    def get_charges(self, atoms):\n",
        "        \"\"\" Get the calculated charges\n",
        "        this is inhereted to atoms object \"\"\"\n",
        "        if 'charges' in self.results:\n",
        "            return self.results['charges']\n",
        "        else:\n",
        "            return None\n",
        "\n",
        "    def read_eigenvalues(self):\n",
        "        \"\"\" Read Eigenvalues from dftb output file (results.tag).\n",
        "            Unfortunately, the order seems to be scrambled. \"\"\"\n",
        "        # Eigenvalue line indexes\n",
        "        index_eig_begin = None\n",
        "        for iline, line in enumerate(self.lines):\n",
        "            fstring = 'eigenvalues   '\n",
        "            if line.find(fstring) >= 0:\n",
        "                index_eig_begin = iline + 1\n",
        "                line1 = line.replace(':', ',')\n",
        "                ncol, nband, nkpt, nspin = map(int, line1.split(',')[-4:])\n",
        "                break\n",
        "        else:\n",
        "            return None\n",
        "        # Take into account that the last row may lack\n",
        "        # columns if nkpt * nspin * nband % ncol != 0\n",
        "        nrow = int(np.ceil(nkpt * nspin * nband * 1. / ncol))\n",
        "        index_eig_end = index_eig_begin + nrow\n",
        "        ncol_last = len(self.lines[index_eig_end - 1].split())\n",
        "        # XXX dirty fix\n",
        "        self.lines[index_eig_end - 1] = (\n",
        "            self.lines[index_eig_end - 1].strip()\n",
        "            + ' 0.0 ' * (ncol - ncol_last))\n",
        "\n",
        "        eig = np.loadtxt(self.lines[index_eig_begin:index_eig_end]).flatten()\n",
        "        eig *= Hartree\n",
        "        N = nkpt * nband\n",
        "        eigenvalues = [eig[i * N:(i + 1) * N].reshape((nkpt, nband))\n",
        "                       for i in range(nspin)]\n",
        "\n",
        "        # Take into account that the last row may lack\n",
        "        # columns if nkpt * nspin * nband % ncol != 0\n",
        "#        nrow = int(np.ceil(nkpt * nspin * nband * 1. / ncol))\n",
        "#        index_eig_end = index_eig_begin + nrow\n",
        "#        ncol_last = len(self.lines[index_eig_end - 1].split())\n",
        "#        self.lines[index_eig_end - 1] += ' 0.0 ' * (ncol - ncol_last)\n",
        "\n",
        "#        eig = np.loadtxt(self.lines[index_eig_begin:index_eig_end]).flatten()\n",
        "#        eig *= Hartree\n",
        "#        N = nkpt * nband\n",
        "#        eigenvalues = [eig[i * N:(i + 1) * N].reshape((nkpt, nband))\n",
        "#                       for i in range(nspin)]\n",
        "\n",
        "        return eigenvalues\n",
        "\n",
        "\n",
        "\n",
        "\n",
        "    def read_fermi_levels(self):\n",
        "        \"\"\" Read Fermi level(s) from dftb output file (results.tag). \"\"\"\n",
        "        # Fermi level line indexes\n",
        "        for iline, line in enumerate(self.lines):\n",
        "            fstring = 'fermi_level   '\n",
        "            if line.find(fstring) >= 0:\n",
        "                index_fermi = iline + 1\n",
        "                break\n",
        "        else:\n",
        "            return None\n",
        "\n",
        "        fermi_levels = []\n",
        "        words = self.lines[index_fermi].split()\n",
        "        assert len(words) in [1, 2], 'Expected either 1 or 2 Fermi levels'\n",
        "\n",
        "        for word in words:\n",
        "            e = float(word)\n",
        "            # In non-spin-polarized calculations with DFTB+ v17.1,\n",
        "            # two Fermi levels are given, with the second one being 0,\n",
        "            # but we don't want to add that one to the list\n",
        "            if abs(e) > 1e-8:\n",
        "                fermi_levels.append(e)\n",
        "\n",
        "        return np.array(fermi_levels) * Hartree\n",
        "\n",
        "    def get_ibz_k_points(self):\n",
        "        return self.kpts_coord.copy()\n",
        "\n",
        "    def get_number_of_spins(self):\n",
        "        return self.nspin\n",
        "\n",
        "    def get_eigenvalues(self, kpt=0, spin=0):\n",
        "        return self.results['eigenvalues'][spin][kpt].copy()\n",
        "\n",
        "    def get_fermi_levels(self):\n",
        "        return self.results['fermi_levels'].copy()\n",
        "\n",
        "    def get_fermi_level(self):\n",
        "        return max(self.get_fermi_levels())\n",
        "\n",
        "    def embed(self, mmcharges=None, directory='./'):\n",
        "        \"\"\"Embed atoms in point-charges (mmcharges)\n",
        "        \"\"\"\n",
        "        self.pcpot = PointChargePotential(mmcharges, self.directory)\n",
        "        return self.pcpot\n",
        "\n",
        "\n",
        "\n",
        "class PointChargePotential:\n",
        "    def __init__(self, mmcharges, directory='./'):\n",
        "        \"\"\"Point-charge potential for DFTB+.\n",
        "        \"\"\"\n",
        "        self.mmcharges = mmcharges\n",
        "        self.directory = directory\n",
        "        self.mmpositions = None\n",
        "        self.mmforces = None\n",
        "\n",
        "    def set_positions(self, mmpositions):\n",
        "        self.mmpositions = mmpositions\n",
        "\n",
        "    def set_charges(self, mmcharges):\n",
        "        self.mmcharges = mmcharges\n",
        "\n",
        "    def write_mmcharges(self, filename):\n",
        "        \"\"\" mok all\n",
        "        write external charges as monopoles for dftb+.\n",
        "\n",
        "        \"\"\"\n",
        "        if self.mmcharges is None:\n",
        "            print(\"DFTB: Warning: not writing exernal charges \")\n",
        "            return\n",
        "        with open(os.path.join(self.directory, filename), 'w') as charge_file:\n",
        "            for [pos, charge] in zip(self.mmpositions, self.mmcharges):\n",
        "                [x, y, z] = pos\n",
        "                charge_file.write('%12.6f %12.6f %12.6f %12.6f \\n'\n",
        "                                  % (x, y, z, charge))\n",
        "\n",
        "    def get_forces(self, calc, get_forces=True):\n",
        "        \"\"\" returns forces on point charges if the flag get_forces=True \"\"\"\n",
        "        if get_forces:\n",
        "            return self.read_forces_on_pointcharges()\n",
        "        else:\n",
        "            return np.zeros_like(self.mmpositions)\n",
        "\n",
        "    def read_forces_on_pointcharges(self):\n",
        "        \"\"\"Read Forces from dftb output file (results.tag).\"\"\"\n",
        "        from ase.units import Hartree, Bohr\n",
        "        with open(os.path.join(self.directory, 'detailed.out'), 'r') as fd:\n",
        "            lines = fd.readlines()\n",
        "\n",
        "        external_forces = []\n",
        "        for n, line in enumerate(lines):\n",
        "            if ('Forces on external charges' in line):\n",
        "                chargestart = n + 1\n",
        "                break\n",
        "        else:\n",
        "            raise RuntimeError(\n",
        "                'Problem in reading forces on MM external-charges')\n",
        "        lines1 = lines[chargestart:(chargestart + len(self.mmcharges))]\n",
        "        for line in lines1:\n",
        "            external_forces.append(\n",
        "                [float(i) for i in line.split()])\n",
        "        return np.array(external_forces) * Hartree / Bohr\n",
        "\n",
        "def read_max_angular_momentum(path):\n",
        "    \"\"\"Read maximum angular momentum from .skf file.\n",
        "\n",
        "    See dftb.org for A detailed description of the Slater-Koster file format.\n",
        "    \"\"\"\n",
        "    with open(path, 'r') as fd:\n",
        "        line = fd.readline()\n",
        "        if line[0] == '@':\n",
        "            # Extended format\n",
        "            fd.readline()\n",
        "            l = 3\n",
        "            pos = 9\n",
        "        else:\n",
        "            # Simple format:\n",
        "            l = 2\n",
        "            pos = 7\n",
        "\n",
        "        # Sometimes there ar commas, sometimes not:\n",
        "        line = fd.readline().replace(',', ' ')\n",
        "\n",
        "        occs = [float(f) for f in line.split()[pos:pos + l + 1]]\n",
        "        for f in occs:\n",
        "            if f > 0.0:\n",
        "                return l\n",
        "            l -= 1\n"
      ],
      "metadata": {
        "cellView": "form",
        "id": "CNIEBzqXx6i9"
      },
      "execution_count": null,
      "outputs": []
    },
    {
      "cell_type": "code",
      "source": [
        "#@title Setup model\n",
        "def setup_model_xtb(atoms, charge=0,init=True):\n",
        "    from ase.calculators.mixing import LinearCombinationCalculator\n",
        "\n",
        "    print('setting up calculator')\n",
        "    if init==True:\n",
        "        DFTB_calc=Dftb_xtb(label='singlepoint', Hamiltonian_='xTB', Hamiltonian_Method='GFN2-xTB', Hamiltonian_Mixer= 'Anderson{',Hamiltonian_Mixer_MixingParameter='0.03',Hamiltonian_MaxSCCIterations = '1500',Hamiltonian_Filling = 'MethfesselPaxton{',Hamiltonian_Filling_Temperature = '0.001583407672623195',Hamiltonian_KPointsAndWeights = 'SupercellFolding {1 0 0 0 1 0 0 0 1 0.0 0.0 0.0}')\n",
        "    if init==False:\n",
        "          DFTB_calc=Dftb_xtb(label='singlepoint', Hamiltonian_='xTB', Hamiltonian_Method='GFN2-xTB', Hamiltonian_ReadInitialCharges='Yes', Hamiltonian_MaxSCCIterations = '1500',Hamiltonian_AdaptFillingTemp = 'yes', Hamiltonian_KPointsAndWeights = 'SupercellFolding {1 0 0 0 1 0 0 0 1 0.0 0.0 0.0}')\n",
        "    if charge>0:\n",
        "        DFTB_calc.set(Hamiltonian_Charge =str(charge))\n",
        "\n",
        "#    CCS_calc=CCS(CCS_params=CCS_params)\n",
        "    calcs =[DFTB_calc] #, PiNN_calc]\n",
        "    weights=[1] #,1]\n",
        "    calc=LinearCombinationCalculator(calcs, weights)\n",
        "    return calc\n",
        "\n",
        "\n",
        "def setup_model_xtb_ccs(atoms, CCS_params, charge=0,init=True):\n",
        "    from ase.calculators.mixing import LinearCombinationCalculator\n",
        "\n",
        "    print('setting up calculator')\n",
        "    if init==True:\n",
        "        DFTB_calc=Dftb_xtb(label='singlepoint', Hamiltonian_='xTB', Hamiltonian_Method='GFN2-xTB', Hamiltonian_Mixer= 'Anderson{',Hamiltonian_Mixer_MixingParameter='0.03',Hamiltonian_MaxSCCIterations = '1500',Hamiltonian_Filling = 'MethfesselPaxton{',Hamiltonian_Filling_Temperature = '0.001583407672623195',Hamiltonian_KPointsAndWeights = 'SupercellFolding {1 0 0 0 1 0 0 0 1 0.0 0.0 0.0}')\n",
        "    if init==False:\n",
        "          DFTB_calc=Dftb_xtb(label='singlepoint', Hamiltonian_='xTB', Hamiltonian_Method='GFN2-xTB', Hamiltonian_ReadInitialCharges='Yes', Hamiltonian_MaxSCCIterations = '1500',Hamiltonian_AdaptFillingTemp = 'yes', Hamiltonian_KPointsAndWeights = 'SupercellFolding {1 0 0 0 1 0 0 0 1 0.0 0.0 0.0}')\n",
        "    if charge>0:\n",
        "        DFTB_calc.set(Hamiltonian_Charge =str(charge))\n",
        "\n",
        "    CCS_calc=CCS(CCS_params=CCS_params)\n",
        "    calcs =[DFTB_calc, CCS_calc]\n",
        "    weights=[1,1] #,1]\n",
        "    calc=LinearCombinationCalculator(calcs, weights)\n",
        "    return calc\n",
        "def run_geom(slab,charge):\n",
        "    charge=charge\n",
        "    print(slab.calc)\n",
        "    relax = FIRE(slab, trajectory='opt.traj')\n",
        "    relax.run(fmax=0.05)\n",
        "\n",
        "def run_sp(slab,charge):\n",
        "    charge=charge\n",
        "    print(slab.calc)\n",
        "    relax = FIRE(slab, trajectory='opt.traj')\n",
        "    relax.run(steps=0)"
      ],
      "metadata": {
        "cellView": "form",
        "id": "c131HqSGyEh_"
      },
      "execution_count": null,
      "outputs": []
    },
    {
      "cell_type": "code",
      "source": [
        "import os\n",
        "base = os.getcwd()\n",
        "try:\n",
        "   os.mkdir('xTB_run')\n",
        "except:\n",
        "  pass\n",
        "os.chdir('xTB_run')\n"
      ],
      "metadata": {
        "id": "bk7Iu37qA69r"
      },
      "execution_count": null,
      "outputs": []
    },
    {
      "cell_type": "code",
      "source": [
        "## %%capture\n",
        "db=connect('../DFT_DB_train.db')\n",
        "db_new=connect('DFTB_DB_train.db')\n",
        "\n",
        "for row in db.select():\n",
        "  atoms=row.toatoms()\n",
        "  print(atoms)\n",
        "  atoms.calc=setup_model_xtb(atoms)\n",
        "  atoms.get_potential_energy()\n",
        "  atoms.get_forces()\n",
        "  db_new.write(atoms)\n",
        "  print('Atom id:',row.id,' added')\n"
      ],
      "metadata": {
        "id": "5hiKWS5cyLC0"
      },
      "execution_count": null,
      "outputs": []
    },
    {
      "cell_type": "code",
      "source": [
        "os.chdir(base)"
      ],
      "metadata": {
        "id": "aRqsHh7sIz0s"
      },
      "execution_count": null,
      "outputs": []
    },
    {
      "cell_type": "code",
      "source": [
        "import pandas as pd\n",
        "import matplotlib.pyplot as plt\n",
        "os.chdir(base)\n",
        "Databases = ['DFT_DB_train.db', 'xTB_run/DFTB_DB_train.db']\n",
        "\n",
        "dd=pd.DataFrame()\n",
        "for database in Databases:\n",
        "  db=connect(database)\n",
        "  Energy=[]\n",
        "  for row in db.select():\n",
        "      Energy.append(row.energy/len(row.toatoms()))\n",
        "  dd[database]=Energy\n",
        "\n",
        "\n",
        "ax=dd.plot.scatter(x=Databases[0],y=Databases[1])\n",
        "ax = plt.gca()\n",
        "#ax.set_aspect(1)\n",
        "ax.set_xlabel('DFT (eV/atom)')\n",
        "ax.set_ylabel('xTB (eV/atom)')\n"
      ],
      "metadata": {
        "id": "m8aub2n_DgJW"
      },
      "execution_count": null,
      "outputs": []
    },
    {
      "cell_type": "markdown",
      "source": [
        "#Let's try to use the CCS software to solve the problem"
      ],
      "metadata": {
        "id": "XplL_iwwJ2Ir"
      }
    },
    {
      "cell_type": "code",
      "source": [
        "from ccs_fit.scripts.ccs_fetch import ccs_fetch as ccs_fetch\n",
        "from ccs_fit.fitting.main import twp_fit as ccs_fit\n",
        "import json"
      ],
      "metadata": {
        "id": "22gKELTOFXRr"
      },
      "execution_count": null,
      "outputs": []
    },
    {
      "cell_type": "markdown",
      "source": [
        "### 1. First, we fetch the data from the ase databases"
      ],
      "metadata": {
        "id": "8OTVDwBGKFAn"
      }
    },
    {
      "cell_type": "code",
      "source": [
        "ccs_fetch(mode='DFTB', R_c= 6.0, Ns='all', DFT_DB='DFT_DB_train.db', DFTB_DB='xTB_run/DFTB_DB_train.db', include_forces=False)"
      ],
      "metadata": {
        "id": "kyItgY_gG3Eh"
      },
      "execution_count": null,
      "outputs": []
    },
    {
      "cell_type": "markdown",
      "source": [
        "### 2. Generate a dummy input file"
      ],
      "metadata": {
        "id": "TfNPXpWBKNmk"
      }
    },
    {
      "cell_type": "code",
      "source": [
        "### Generate input.json file\n",
        "import json\n",
        "\n",
        "input={\n",
        "    \"General\": {\n",
        "        \"interface\": \"DFTB\",\n",
        "        \"merging\"  : \"True\"\n",
        "    },\n",
        "    \"Twobody\": {\n",
        "                \"Xx-Xx\": {\n",
        "                        \"Rcut\": 6.0,\n",
        "                        \"Resolution\": 0.01,\n",
        "                        \"Swtype\": \"rep\",\n",
        "                        \"const_type\" : \"Mono\"\n",
        "                }\n",
        "        }\n",
        "}\n",
        "#SAVE TO FILE\n",
        "with open('CCS_input.json', 'w') as f:\n",
        "    json.dump(input, f, indent=8)"
      ],
      "metadata": {
        "id": "sfHuyRlpH07E"
      },
      "execution_count": null,
      "outputs": []
    },
    {
      "cell_type": "markdown",
      "source": [
        "### 3. Solve the quadratic programming problem to generate a CCS repulsive potential"
      ],
      "metadata": {
        "id": "uifVD4cFKYB9"
      }
    },
    {
      "cell_type": "code",
      "source": [
        "#RUN FIT\n",
        "## %%capture\n",
        "from ccs_fit import ccs_fit\n",
        "\n",
        "ccs_fit(\"CCS_input.json\")"
      ],
      "metadata": {
        "id": "K4zOCdKRHhD5"
      },
      "execution_count": null,
      "outputs": []
    },
    {
      "cell_type": "code",
      "source": [
        "import numpy as np\n",
        "import matplotlib.pyplot as plt\n",
        "\n",
        "with open(\"CCS_params.json\", \"r\") as f:\n",
        "    CCS_params = json.load(f)\n",
        "\n",
        "from itertools import combinations\n",
        "elements=['C', 'H', 'Li', 'O']\n",
        "pairs=combinations(elements,2)\n",
        "for element in elements:\n",
        "  r = np.array(CCS_params[\"Two_body\"][element+'-'+element][\"r\"])\n",
        "  e = CCS_params[\"Two_body\"][element+'-'+element][\"spl_a\"]\n",
        "  plt.plot(r,e,'--',label=element+'-'+element)\n",
        "\n",
        "for pair in pairs:\n",
        "  r = np.array(CCS_params[\"Two_body\"][pair[0]+\"-\"+pair[1]][\"r\"])\n",
        "  e = CCS_params[\"Two_body\"][pair[0]+\"-\"+pair[1]][\"spl_a\"]\n",
        "  plt.plot(r,e,label=pair[0]+\"-\"+pair[1])\n",
        "\n",
        "\n",
        "plt.xlim(1.,8)\n",
        "plt.ylim(-.1,2.0)\n",
        "plt.xlabel('Distance (Å)')\n",
        "plt.ylabel('Potential (eV)')\n",
        "\n",
        "plt.legend()\n",
        "plt.show()"
      ],
      "metadata": {
        "id": "PpEg9mF3xUGu"
      },
      "execution_count": null,
      "outputs": []
    },
    {
      "cell_type": "markdown",
      "source": [
        "### 4. validate the potential"
      ],
      "metadata": {
        "id": "Jvij41WiKWO6"
      }
    },
    {
      "cell_type": "code",
      "source": [
        "err=np.loadtxt(\"CCS_error.out\")\n",
        "plt.xlabel('Reference energy (eV)')\n",
        "plt.ylabel('Validation energy (eV)')\n",
        "plt.plot( [min(err[:,0]),max(err[:,0])],[min(err[:,0]),max(err[:,0])],'--',color='black'  )\n",
        "plt.scatter(err[:,0],err[:,1],facecolors='none', edgecolors='red')\n",
        "plt.show()\n",
        "plt.xlabel('Reference energy (eV)')\n",
        "plt.ylabel('Error in fit (eV)')\n",
        "plt.scatter(err[:,0],err[:,2],facecolors='none', edgecolors='red')\n",
        "plt.show()\n"
      ],
      "metadata": {
        "id": "WYM2DJlPIlS3"
      },
      "execution_count": null,
      "outputs": []
    },
    {
      "cell_type": "markdown",
      "source": [
        "# Lets use the new potential\n",
        "\n",
        "To use the model, we use the LinearCombinationCalculator in ASE."
      ],
      "metadata": {
        "id": "EteadmnjLOIr"
      }
    },
    {
      "cell_type": "code",
      "source": [
        "try:\n",
        "  os.mkdir('xTBpCCS')\n",
        "except:\n",
        "  pass\n",
        "os.chdir('xTBpCCS')"
      ],
      "metadata": {
        "id": "smPzus-raeaE"
      },
      "execution_count": null,
      "outputs": []
    },
    {
      "cell_type": "markdown",
      "source": [
        "First, let's use the same data as above."
      ],
      "metadata": {
        "id": "_Xt1mYLnLb3Q"
      }
    },
    {
      "cell_type": "code",
      "source": [
        "## %%capture\n",
        "import json\n",
        "\n",
        "db=connect('../DFT_DB_train.db')\n",
        "db_new=connect('DFTB_CCS_DB_train.db')\n",
        "\n",
        "with open('../CCS_params.json', 'r') as f:\n",
        "    CCS_params = json.load(f)\n",
        "\n",
        "for row in db.select():\n",
        "  atoms=row.toatoms()\n",
        "  print(atoms)\n",
        "  atoms.calc=setup_model_xtb_ccs(atoms, CCS_params)\n",
        "  atoms.get_potential_energy()\n",
        "  atoms.get_forces()\n",
        "  db_new.write(atoms)\n",
        "  print('Atom id:',row.id,' added')\n"
      ],
      "metadata": {
        "id": "NJLEwwzbaa80"
      },
      "execution_count": null,
      "outputs": []
    },
    {
      "cell_type": "code",
      "source": [
        "!ase db DFTB_CCS_DB_train.db"
      ],
      "metadata": {
        "id": "BU2E1UcbitWS"
      },
      "execution_count": null,
      "outputs": []
    },
    {
      "cell_type": "code",
      "source": [
        "from google.colab import files\n",
        "files.download('DFTB_CCS_DB_train.db')"
      ],
      "metadata": {
        "id": "ymBk8ANGR465"
      },
      "execution_count": null,
      "outputs": []
    },
    {
      "cell_type": "code",
      "source": [
        "os.chdir(base)\n",
        "Databases = ['DFT_DB_train.db', 'xTB_run/DFTB_DB_train.db', 'xTBpCCS/DFTB_CCS_DB_train.db']\n",
        "\n",
        "dd=pd.DataFrame()\n",
        "for database in Databases:\n",
        "  db=connect(database)\n",
        "  Energy=[]\n",
        "  for row in db.select():\n",
        "      Energy.append(row.energy/len(row.toatoms()))\n",
        "  dd[database]=Energy\n",
        "\n",
        "\n",
        "dd.plot.scatter(x=Databases[0],y=Databases[1])\n",
        "dd.plot.scatter(x=Databases[0],y=Databases[2])"
      ],
      "metadata": {
        "id": "G8n1pNz5caKD"
      },
      "execution_count": null,
      "outputs": []
    },
    {
      "cell_type": "code",
      "source": [],
      "metadata": {
        "id": "38KjAUUkxAnD"
      },
      "execution_count": null,
      "outputs": []
    },
    {
      "cell_type": "markdown",
      "source": [
        "#Let's test it on unseen data\n"
      ],
      "metadata": {
        "id": "NXCwA2G6MgyK"
      }
    },
    {
      "cell_type": "code",
      "source": [
        "!wget https://github.com/peterbmob/niteroi/raw/main/DFT_DB_val.db"
      ],
      "metadata": {
        "id": "5DljAVXSu_VQ"
      },
      "execution_count": null,
      "outputs": []
    },
    {
      "cell_type": "code",
      "source": [
        "try:\n",
        "  os.mkdir('xTBpCCS_val')\n",
        "except:\n",
        "  pass\n",
        "os.chdir('xTBpCCS_val')"
      ],
      "metadata": {
        "id": "lpjPOqMONINC"
      },
      "execution_count": null,
      "outputs": []
    },
    {
      "cell_type": "code",
      "source": [
        "db=connect('../DFT_DB_val.db')\n",
        "db_new=connect('DFTB_CCS_DB_val.db')\n",
        "\n",
        "with open('../CCS_params.json', 'r') as f:\n",
        "    CCS_params = json.load(f)\n",
        "\n",
        "for row in db.select():\n",
        "  atoms=row.toatoms()\n",
        "  print(atoms)\n",
        "  atoms.calc=setup_model_xtb_ccs(atoms, CCS_params)\n",
        "  try:\n",
        "    atoms.get_potential_energy()\n",
        "    atoms.get_forces()\n",
        "  except:\n",
        "      pass\n",
        "  db_new.write(atoms)\n",
        "  print('Atom id:',row.id,' added')"
      ],
      "metadata": {
        "id": "4EnYcJgHNAh_"
      },
      "execution_count": null,
      "outputs": []
    },
    {
      "cell_type": "code",
      "source": [
        "os.chdir(base)\n",
        "Databases_N = ['DFT_DB_val.db', 'xTBpCCS_val/DFTB_CCS_DB_val.db']\n",
        "dd_val=pd.DataFrame()\n",
        "for database in Databases_N:\n",
        "  db=connect(database)\n",
        "  Energy=[]\n",
        "  for row in db.select():\n",
        "      Energy.append(row.energy/len(row.toatoms()))\n",
        "  dd_val[database]=Energy\n",
        "\n",
        "ax=dd_val.plot.scatter(x=Databases_N[0],y=Databases_N[1], c='r')\n",
        "dd.plot.scatter(x=Databases[0],y=Databases[2],ax=ax)\n"
      ],
      "metadata": {
        "id": "xRaWz--JNTDn"
      },
      "execution_count": null,
      "outputs": []
    }
  ]
}